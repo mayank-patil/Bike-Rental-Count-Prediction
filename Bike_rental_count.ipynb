{
 "cells": [
  {
   "cell_type": "markdown",
   "metadata": {},
   "source": [
    "# ------------------------------- Predication Of Bike Rental Count ------------------------------"
   ]
  },
  {
   "cell_type": "markdown",
   "metadata": {},
   "source": [
    "#### Problem statement -\n",
    "The objective of this Case is to Predication of bike rental count on daily based on the\n",
    "environmental and seasonal settings.\n",
    "The details of data attributes in the dataset are as follows -\n",
    "1. instant: Record index\n",
    "2. dteday: Date\n",
    "3. season: Season (1:springer, 2:summer, 3:fall, 4:winter)\n",
    "4. yr: Year (0: 2011, 1:2012)\n",
    "5. mnth: Month (1 to 12)\n",
    "6. hr: Hour (0 to 23)\n",
    "7. holiday: weather day is holiday or not (extracted fromHoliday Schedule)\n",
    "8. weekday: Day of the week\n",
    "9. workingday: If day is neither weekend nor holiday is 1, otherwise is 0.\n",
    "10. weathersit: (extracted fromFreemeteo)\n",
    "1: Clear, Few clouds, Partly cloudy, Partly cloudy\n",
    "2: Mist + Cloudy, Mist + Broken clouds, Mist + Few clouds, Mist\n",
    "3: Light Snow, Light Rain + Thunderstorm + Scattered clouds, Light Rain + Scattered\n",
    "clouds\n",
    "4: Heavy Rain + Ice Pallets + Thunderstorm + Mist, Snow + Fog\n",
    "11. temp: Normalized temperature in Celsius. The values are derived via\n",
    "(t-t_min)/(t_max-t_min),\n",
    "t_min=-8, t_max=+39 (only in hourly scale)\n",
    "12. atemp: Normalized feeling temperature in Celsius. The values are derived via\n",
    "(t-t_min)/(t_maxt_min), t_min=-16, t_max=+50 (only in hourly scale)\n",
    "13. hum: Normalized humidity. The values are divided to 100 (max)\n",
    "14. windspeed: Normalized wind speed. The values are divided to 67 (max)\n",
    "15. casual: count of casual users\n",
    "16. registered: count of registered users\n",
    "17. cnt: count of total rental bikes including both casual and registered\n"
   ]
  },
  {
   "cell_type": "code",
   "execution_count": 98,
   "metadata": {},
   "outputs": [],
   "source": [
    "#importing library\n",
    "import pandas as pd\n",
    "import matplotlib.pyplot as plt\n",
    "import numpy as np\n",
    "import seaborn as sns"
   ]
  },
  {
   "cell_type": "code",
   "execution_count": 99,
   "metadata": {},
   "outputs": [
    {
     "data": {
      "text/html": [
       "<div>\n",
       "<style scoped>\n",
       "    .dataframe tbody tr th:only-of-type {\n",
       "        vertical-align: middle;\n",
       "    }\n",
       "\n",
       "    .dataframe tbody tr th {\n",
       "        vertical-align: top;\n",
       "    }\n",
       "\n",
       "    .dataframe thead th {\n",
       "        text-align: right;\n",
       "    }\n",
       "</style>\n",
       "<table border=\"1\" class=\"dataframe\">\n",
       "  <thead>\n",
       "    <tr style=\"text-align: right;\">\n",
       "      <th></th>\n",
       "      <th>instant</th>\n",
       "      <th>dteday</th>\n",
       "      <th>season</th>\n",
       "      <th>yr</th>\n",
       "      <th>mnth</th>\n",
       "      <th>holiday</th>\n",
       "      <th>weekday</th>\n",
       "      <th>workingday</th>\n",
       "      <th>weathersit</th>\n",
       "      <th>temp</th>\n",
       "      <th>atemp</th>\n",
       "      <th>hum</th>\n",
       "      <th>windspeed</th>\n",
       "      <th>casual</th>\n",
       "      <th>registered</th>\n",
       "      <th>cnt</th>\n",
       "    </tr>\n",
       "  </thead>\n",
       "  <tbody>\n",
       "    <tr>\n",
       "      <th>0</th>\n",
       "      <td>1</td>\n",
       "      <td>2011-01-01</td>\n",
       "      <td>1</td>\n",
       "      <td>0</td>\n",
       "      <td>1</td>\n",
       "      <td>0</td>\n",
       "      <td>6</td>\n",
       "      <td>0</td>\n",
       "      <td>2</td>\n",
       "      <td>0.344167</td>\n",
       "      <td>0.363625</td>\n",
       "      <td>0.805833</td>\n",
       "      <td>0.160446</td>\n",
       "      <td>331</td>\n",
       "      <td>654</td>\n",
       "      <td>985</td>\n",
       "    </tr>\n",
       "    <tr>\n",
       "      <th>1</th>\n",
       "      <td>2</td>\n",
       "      <td>2011-01-02</td>\n",
       "      <td>1</td>\n",
       "      <td>0</td>\n",
       "      <td>1</td>\n",
       "      <td>0</td>\n",
       "      <td>0</td>\n",
       "      <td>0</td>\n",
       "      <td>2</td>\n",
       "      <td>0.363478</td>\n",
       "      <td>0.353739</td>\n",
       "      <td>0.696087</td>\n",
       "      <td>0.248539</td>\n",
       "      <td>131</td>\n",
       "      <td>670</td>\n",
       "      <td>801</td>\n",
       "    </tr>\n",
       "    <tr>\n",
       "      <th>2</th>\n",
       "      <td>3</td>\n",
       "      <td>2011-01-03</td>\n",
       "      <td>1</td>\n",
       "      <td>0</td>\n",
       "      <td>1</td>\n",
       "      <td>0</td>\n",
       "      <td>1</td>\n",
       "      <td>1</td>\n",
       "      <td>1</td>\n",
       "      <td>0.196364</td>\n",
       "      <td>0.189405</td>\n",
       "      <td>0.437273</td>\n",
       "      <td>0.248309</td>\n",
       "      <td>120</td>\n",
       "      <td>1229</td>\n",
       "      <td>1349</td>\n",
       "    </tr>\n",
       "    <tr>\n",
       "      <th>3</th>\n",
       "      <td>4</td>\n",
       "      <td>2011-01-04</td>\n",
       "      <td>1</td>\n",
       "      <td>0</td>\n",
       "      <td>1</td>\n",
       "      <td>0</td>\n",
       "      <td>2</td>\n",
       "      <td>1</td>\n",
       "      <td>1</td>\n",
       "      <td>0.200000</td>\n",
       "      <td>0.212122</td>\n",
       "      <td>0.590435</td>\n",
       "      <td>0.160296</td>\n",
       "      <td>108</td>\n",
       "      <td>1454</td>\n",
       "      <td>1562</td>\n",
       "    </tr>\n",
       "    <tr>\n",
       "      <th>4</th>\n",
       "      <td>5</td>\n",
       "      <td>2011-01-05</td>\n",
       "      <td>1</td>\n",
       "      <td>0</td>\n",
       "      <td>1</td>\n",
       "      <td>0</td>\n",
       "      <td>3</td>\n",
       "      <td>1</td>\n",
       "      <td>1</td>\n",
       "      <td>0.226957</td>\n",
       "      <td>0.229270</td>\n",
       "      <td>0.436957</td>\n",
       "      <td>0.186900</td>\n",
       "      <td>82</td>\n",
       "      <td>1518</td>\n",
       "      <td>1600</td>\n",
       "    </tr>\n",
       "    <tr>\n",
       "      <th>...</th>\n",
       "      <td>...</td>\n",
       "      <td>...</td>\n",
       "      <td>...</td>\n",
       "      <td>...</td>\n",
       "      <td>...</td>\n",
       "      <td>...</td>\n",
       "      <td>...</td>\n",
       "      <td>...</td>\n",
       "      <td>...</td>\n",
       "      <td>...</td>\n",
       "      <td>...</td>\n",
       "      <td>...</td>\n",
       "      <td>...</td>\n",
       "      <td>...</td>\n",
       "      <td>...</td>\n",
       "      <td>...</td>\n",
       "    </tr>\n",
       "    <tr>\n",
       "      <th>726</th>\n",
       "      <td>727</td>\n",
       "      <td>2012-12-27</td>\n",
       "      <td>1</td>\n",
       "      <td>1</td>\n",
       "      <td>12</td>\n",
       "      <td>0</td>\n",
       "      <td>4</td>\n",
       "      <td>1</td>\n",
       "      <td>2</td>\n",
       "      <td>0.254167</td>\n",
       "      <td>0.226642</td>\n",
       "      <td>0.652917</td>\n",
       "      <td>0.350133</td>\n",
       "      <td>247</td>\n",
       "      <td>1867</td>\n",
       "      <td>2114</td>\n",
       "    </tr>\n",
       "    <tr>\n",
       "      <th>727</th>\n",
       "      <td>728</td>\n",
       "      <td>2012-12-28</td>\n",
       "      <td>1</td>\n",
       "      <td>1</td>\n",
       "      <td>12</td>\n",
       "      <td>0</td>\n",
       "      <td>5</td>\n",
       "      <td>1</td>\n",
       "      <td>2</td>\n",
       "      <td>0.253333</td>\n",
       "      <td>0.255046</td>\n",
       "      <td>0.590000</td>\n",
       "      <td>0.155471</td>\n",
       "      <td>644</td>\n",
       "      <td>2451</td>\n",
       "      <td>3095</td>\n",
       "    </tr>\n",
       "    <tr>\n",
       "      <th>728</th>\n",
       "      <td>729</td>\n",
       "      <td>2012-12-29</td>\n",
       "      <td>1</td>\n",
       "      <td>1</td>\n",
       "      <td>12</td>\n",
       "      <td>0</td>\n",
       "      <td>6</td>\n",
       "      <td>0</td>\n",
       "      <td>2</td>\n",
       "      <td>0.253333</td>\n",
       "      <td>0.242400</td>\n",
       "      <td>0.752917</td>\n",
       "      <td>0.124383</td>\n",
       "      <td>159</td>\n",
       "      <td>1182</td>\n",
       "      <td>1341</td>\n",
       "    </tr>\n",
       "    <tr>\n",
       "      <th>729</th>\n",
       "      <td>730</td>\n",
       "      <td>2012-12-30</td>\n",
       "      <td>1</td>\n",
       "      <td>1</td>\n",
       "      <td>12</td>\n",
       "      <td>0</td>\n",
       "      <td>0</td>\n",
       "      <td>0</td>\n",
       "      <td>1</td>\n",
       "      <td>0.255833</td>\n",
       "      <td>0.231700</td>\n",
       "      <td>0.483333</td>\n",
       "      <td>0.350754</td>\n",
       "      <td>364</td>\n",
       "      <td>1432</td>\n",
       "      <td>1796</td>\n",
       "    </tr>\n",
       "    <tr>\n",
       "      <th>730</th>\n",
       "      <td>731</td>\n",
       "      <td>2012-12-31</td>\n",
       "      <td>1</td>\n",
       "      <td>1</td>\n",
       "      <td>12</td>\n",
       "      <td>0</td>\n",
       "      <td>1</td>\n",
       "      <td>1</td>\n",
       "      <td>2</td>\n",
       "      <td>0.215833</td>\n",
       "      <td>0.223487</td>\n",
       "      <td>0.577500</td>\n",
       "      <td>0.154846</td>\n",
       "      <td>439</td>\n",
       "      <td>2290</td>\n",
       "      <td>2729</td>\n",
       "    </tr>\n",
       "  </tbody>\n",
       "</table>\n",
       "<p>731 rows × 16 columns</p>\n",
       "</div>"
      ],
      "text/plain": [
       "     instant      dteday  season  yr  mnth  holiday  weekday  workingday  \\\n",
       "0          1  2011-01-01       1   0     1        0        6           0   \n",
       "1          2  2011-01-02       1   0     1        0        0           0   \n",
       "2          3  2011-01-03       1   0     1        0        1           1   \n",
       "3          4  2011-01-04       1   0     1        0        2           1   \n",
       "4          5  2011-01-05       1   0     1        0        3           1   \n",
       "..       ...         ...     ...  ..   ...      ...      ...         ...   \n",
       "726      727  2012-12-27       1   1    12        0        4           1   \n",
       "727      728  2012-12-28       1   1    12        0        5           1   \n",
       "728      729  2012-12-29       1   1    12        0        6           0   \n",
       "729      730  2012-12-30       1   1    12        0        0           0   \n",
       "730      731  2012-12-31       1   1    12        0        1           1   \n",
       "\n",
       "     weathersit      temp     atemp       hum  windspeed  casual  registered  \\\n",
       "0             2  0.344167  0.363625  0.805833   0.160446     331         654   \n",
       "1             2  0.363478  0.353739  0.696087   0.248539     131         670   \n",
       "2             1  0.196364  0.189405  0.437273   0.248309     120        1229   \n",
       "3             1  0.200000  0.212122  0.590435   0.160296     108        1454   \n",
       "4             1  0.226957  0.229270  0.436957   0.186900      82        1518   \n",
       "..          ...       ...       ...       ...        ...     ...         ...   \n",
       "726           2  0.254167  0.226642  0.652917   0.350133     247        1867   \n",
       "727           2  0.253333  0.255046  0.590000   0.155471     644        2451   \n",
       "728           2  0.253333  0.242400  0.752917   0.124383     159        1182   \n",
       "729           1  0.255833  0.231700  0.483333   0.350754     364        1432   \n",
       "730           2  0.215833  0.223487  0.577500   0.154846     439        2290   \n",
       "\n",
       "      cnt  \n",
       "0     985  \n",
       "1     801  \n",
       "2    1349  \n",
       "3    1562  \n",
       "4    1600  \n",
       "..    ...  \n",
       "726  2114  \n",
       "727  3095  \n",
       "728  1341  \n",
       "729  1796  \n",
       "730  2729  \n",
       "\n",
       "[731 rows x 16 columns]"
      ]
     },
     "execution_count": 99,
     "metadata": {},
     "output_type": "execute_result"
    }
   ],
   "source": [
    "#Reading data file\n",
    "df = pd.read_csv(\"day.csv\")\n",
    "df"
   ]
  },
  {
   "cell_type": "code",
   "execution_count": 100,
   "metadata": {},
   "outputs": [
    {
     "data": {
      "text/html": [
       "<div>\n",
       "<style scoped>\n",
       "    .dataframe tbody tr th:only-of-type {\n",
       "        vertical-align: middle;\n",
       "    }\n",
       "\n",
       "    .dataframe tbody tr th {\n",
       "        vertical-align: top;\n",
       "    }\n",
       "\n",
       "    .dataframe thead th {\n",
       "        text-align: right;\n",
       "    }\n",
       "</style>\n",
       "<table border=\"1\" class=\"dataframe\">\n",
       "  <thead>\n",
       "    <tr style=\"text-align: right;\">\n",
       "      <th></th>\n",
       "      <th>instant</th>\n",
       "      <th>dteday</th>\n",
       "      <th>season</th>\n",
       "      <th>yr</th>\n",
       "      <th>mnth</th>\n",
       "      <th>holiday</th>\n",
       "      <th>weekday</th>\n",
       "      <th>workingday</th>\n",
       "      <th>weathersit</th>\n",
       "      <th>temp</th>\n",
       "      <th>atemp</th>\n",
       "      <th>hum</th>\n",
       "      <th>windspeed</th>\n",
       "      <th>cnt</th>\n",
       "    </tr>\n",
       "  </thead>\n",
       "  <tbody>\n",
       "    <tr>\n",
       "      <th>0</th>\n",
       "      <td>1</td>\n",
       "      <td>2011-01-01</td>\n",
       "      <td>1</td>\n",
       "      <td>0</td>\n",
       "      <td>1</td>\n",
       "      <td>0</td>\n",
       "      <td>6</td>\n",
       "      <td>0</td>\n",
       "      <td>2</td>\n",
       "      <td>0.344167</td>\n",
       "      <td>0.363625</td>\n",
       "      <td>0.805833</td>\n",
       "      <td>0.160446</td>\n",
       "      <td>985</td>\n",
       "    </tr>\n",
       "    <tr>\n",
       "      <th>1</th>\n",
       "      <td>2</td>\n",
       "      <td>2011-01-02</td>\n",
       "      <td>1</td>\n",
       "      <td>0</td>\n",
       "      <td>1</td>\n",
       "      <td>0</td>\n",
       "      <td>0</td>\n",
       "      <td>0</td>\n",
       "      <td>2</td>\n",
       "      <td>0.363478</td>\n",
       "      <td>0.353739</td>\n",
       "      <td>0.696087</td>\n",
       "      <td>0.248539</td>\n",
       "      <td>801</td>\n",
       "    </tr>\n",
       "    <tr>\n",
       "      <th>2</th>\n",
       "      <td>3</td>\n",
       "      <td>2011-01-03</td>\n",
       "      <td>1</td>\n",
       "      <td>0</td>\n",
       "      <td>1</td>\n",
       "      <td>0</td>\n",
       "      <td>1</td>\n",
       "      <td>1</td>\n",
       "      <td>1</td>\n",
       "      <td>0.196364</td>\n",
       "      <td>0.189405</td>\n",
       "      <td>0.437273</td>\n",
       "      <td>0.248309</td>\n",
       "      <td>1349</td>\n",
       "    </tr>\n",
       "    <tr>\n",
       "      <th>3</th>\n",
       "      <td>4</td>\n",
       "      <td>2011-01-04</td>\n",
       "      <td>1</td>\n",
       "      <td>0</td>\n",
       "      <td>1</td>\n",
       "      <td>0</td>\n",
       "      <td>2</td>\n",
       "      <td>1</td>\n",
       "      <td>1</td>\n",
       "      <td>0.200000</td>\n",
       "      <td>0.212122</td>\n",
       "      <td>0.590435</td>\n",
       "      <td>0.160296</td>\n",
       "      <td>1562</td>\n",
       "    </tr>\n",
       "    <tr>\n",
       "      <th>4</th>\n",
       "      <td>5</td>\n",
       "      <td>2011-01-05</td>\n",
       "      <td>1</td>\n",
       "      <td>0</td>\n",
       "      <td>1</td>\n",
       "      <td>0</td>\n",
       "      <td>3</td>\n",
       "      <td>1</td>\n",
       "      <td>1</td>\n",
       "      <td>0.226957</td>\n",
       "      <td>0.229270</td>\n",
       "      <td>0.436957</td>\n",
       "      <td>0.186900</td>\n",
       "      <td>1600</td>\n",
       "    </tr>\n",
       "    <tr>\n",
       "      <th>...</th>\n",
       "      <td>...</td>\n",
       "      <td>...</td>\n",
       "      <td>...</td>\n",
       "      <td>...</td>\n",
       "      <td>...</td>\n",
       "      <td>...</td>\n",
       "      <td>...</td>\n",
       "      <td>...</td>\n",
       "      <td>...</td>\n",
       "      <td>...</td>\n",
       "      <td>...</td>\n",
       "      <td>...</td>\n",
       "      <td>...</td>\n",
       "      <td>...</td>\n",
       "    </tr>\n",
       "    <tr>\n",
       "      <th>726</th>\n",
       "      <td>727</td>\n",
       "      <td>2012-12-27</td>\n",
       "      <td>1</td>\n",
       "      <td>1</td>\n",
       "      <td>12</td>\n",
       "      <td>0</td>\n",
       "      <td>4</td>\n",
       "      <td>1</td>\n",
       "      <td>2</td>\n",
       "      <td>0.254167</td>\n",
       "      <td>0.226642</td>\n",
       "      <td>0.652917</td>\n",
       "      <td>0.350133</td>\n",
       "      <td>2114</td>\n",
       "    </tr>\n",
       "    <tr>\n",
       "      <th>727</th>\n",
       "      <td>728</td>\n",
       "      <td>2012-12-28</td>\n",
       "      <td>1</td>\n",
       "      <td>1</td>\n",
       "      <td>12</td>\n",
       "      <td>0</td>\n",
       "      <td>5</td>\n",
       "      <td>1</td>\n",
       "      <td>2</td>\n",
       "      <td>0.253333</td>\n",
       "      <td>0.255046</td>\n",
       "      <td>0.590000</td>\n",
       "      <td>0.155471</td>\n",
       "      <td>3095</td>\n",
       "    </tr>\n",
       "    <tr>\n",
       "      <th>728</th>\n",
       "      <td>729</td>\n",
       "      <td>2012-12-29</td>\n",
       "      <td>1</td>\n",
       "      <td>1</td>\n",
       "      <td>12</td>\n",
       "      <td>0</td>\n",
       "      <td>6</td>\n",
       "      <td>0</td>\n",
       "      <td>2</td>\n",
       "      <td>0.253333</td>\n",
       "      <td>0.242400</td>\n",
       "      <td>0.752917</td>\n",
       "      <td>0.124383</td>\n",
       "      <td>1341</td>\n",
       "    </tr>\n",
       "    <tr>\n",
       "      <th>729</th>\n",
       "      <td>730</td>\n",
       "      <td>2012-12-30</td>\n",
       "      <td>1</td>\n",
       "      <td>1</td>\n",
       "      <td>12</td>\n",
       "      <td>0</td>\n",
       "      <td>0</td>\n",
       "      <td>0</td>\n",
       "      <td>1</td>\n",
       "      <td>0.255833</td>\n",
       "      <td>0.231700</td>\n",
       "      <td>0.483333</td>\n",
       "      <td>0.350754</td>\n",
       "      <td>1796</td>\n",
       "    </tr>\n",
       "    <tr>\n",
       "      <th>730</th>\n",
       "      <td>731</td>\n",
       "      <td>2012-12-31</td>\n",
       "      <td>1</td>\n",
       "      <td>1</td>\n",
       "      <td>12</td>\n",
       "      <td>0</td>\n",
       "      <td>1</td>\n",
       "      <td>1</td>\n",
       "      <td>2</td>\n",
       "      <td>0.215833</td>\n",
       "      <td>0.223487</td>\n",
       "      <td>0.577500</td>\n",
       "      <td>0.154846</td>\n",
       "      <td>2729</td>\n",
       "    </tr>\n",
       "  </tbody>\n",
       "</table>\n",
       "<p>731 rows × 14 columns</p>\n",
       "</div>"
      ],
      "text/plain": [
       "     instant      dteday  season  yr  mnth  holiday  weekday  workingday  \\\n",
       "0          1  2011-01-01       1   0     1        0        6           0   \n",
       "1          2  2011-01-02       1   0     1        0        0           0   \n",
       "2          3  2011-01-03       1   0     1        0        1           1   \n",
       "3          4  2011-01-04       1   0     1        0        2           1   \n",
       "4          5  2011-01-05       1   0     1        0        3           1   \n",
       "..       ...         ...     ...  ..   ...      ...      ...         ...   \n",
       "726      727  2012-12-27       1   1    12        0        4           1   \n",
       "727      728  2012-12-28       1   1    12        0        5           1   \n",
       "728      729  2012-12-29       1   1    12        0        6           0   \n",
       "729      730  2012-12-30       1   1    12        0        0           0   \n",
       "730      731  2012-12-31       1   1    12        0        1           1   \n",
       "\n",
       "     weathersit      temp     atemp       hum  windspeed   cnt  \n",
       "0             2  0.344167  0.363625  0.805833   0.160446   985  \n",
       "1             2  0.363478  0.353739  0.696087   0.248539   801  \n",
       "2             1  0.196364  0.189405  0.437273   0.248309  1349  \n",
       "3             1  0.200000  0.212122  0.590435   0.160296  1562  \n",
       "4             1  0.226957  0.229270  0.436957   0.186900  1600  \n",
       "..          ...       ...       ...       ...        ...   ...  \n",
       "726           2  0.254167  0.226642  0.652917   0.350133  2114  \n",
       "727           2  0.253333  0.255046  0.590000   0.155471  3095  \n",
       "728           2  0.253333  0.242400  0.752917   0.124383  1341  \n",
       "729           1  0.255833  0.231700  0.483333   0.350754  1796  \n",
       "730           2  0.215833  0.223487  0.577500   0.154846  2729  \n",
       "\n",
       "[731 rows x 14 columns]"
      ]
     },
     "execution_count": 100,
     "metadata": {},
     "output_type": "execute_result"
    }
   ],
   "source": [
    "df =df.drop(columns=[\"casual\",\"registered\"])\n",
    "df"
   ]
  },
  {
   "cell_type": "code",
   "execution_count": 101,
   "metadata": {},
   "outputs": [],
   "source": [
    "# changing datatype of variables\n",
    "df['season']= df['season'].astype('object')\n",
    "df['mnth']=df['mnth'].astype('object')\n",
    "df['weekday']=df['weekday'].astype('object')\n",
    "df['weathersit']=df['weathersit'].astype('object')\n",
    "df['workingday']=df['workingday'].astype('object')\n",
    "df['yr']=df['yr'].astype('object')\n",
    "df['holiday']=df['holiday'].astype('object')"
   ]
  },
  {
   "cell_type": "code",
   "execution_count": 102,
   "metadata": {},
   "outputs": [
    {
     "name": "stdout",
     "output_type": "stream",
     "text": [
      "<class 'pandas.core.frame.DataFrame'>\n",
      "RangeIndex: 731 entries, 0 to 730\n",
      "Data columns (total 14 columns):\n",
      "instant       731 non-null int64\n",
      "dteday        731 non-null object\n",
      "season        731 non-null object\n",
      "yr            731 non-null object\n",
      "mnth          731 non-null object\n",
      "holiday       731 non-null object\n",
      "weekday       731 non-null object\n",
      "workingday    731 non-null object\n",
      "weathersit    731 non-null object\n",
      "temp          731 non-null float64\n",
      "atemp         731 non-null float64\n",
      "hum           731 non-null float64\n",
      "windspeed     731 non-null float64\n",
      "cnt           731 non-null int64\n",
      "dtypes: float64(4), int64(2), object(8)\n",
      "memory usage: 80.1+ KB\n"
     ]
    }
   ],
   "source": [
    "df.info()"
   ]
  },
  {
   "cell_type": "markdown",
   "metadata": {},
   "source": [
    "### Finding and Removing Missing Values"
   ]
  },
  {
   "cell_type": "code",
   "execution_count": 103,
   "metadata": {},
   "outputs": [
    {
     "data": {
      "text/html": [
       "<div>\n",
       "<style scoped>\n",
       "    .dataframe tbody tr th:only-of-type {\n",
       "        vertical-align: middle;\n",
       "    }\n",
       "\n",
       "    .dataframe tbody tr th {\n",
       "        vertical-align: top;\n",
       "    }\n",
       "\n",
       "    .dataframe thead th {\n",
       "        text-align: right;\n",
       "    }\n",
       "</style>\n",
       "<table border=\"1\" class=\"dataframe\">\n",
       "  <thead>\n",
       "    <tr style=\"text-align: right;\">\n",
       "      <th></th>\n",
       "      <th>miss_count</th>\n",
       "      <th>miss_%</th>\n",
       "    </tr>\n",
       "  </thead>\n",
       "  <tbody>\n",
       "    <tr>\n",
       "      <th>instant</th>\n",
       "      <td>0</td>\n",
       "      <td>0.0</td>\n",
       "    </tr>\n",
       "    <tr>\n",
       "      <th>dteday</th>\n",
       "      <td>0</td>\n",
       "      <td>0.0</td>\n",
       "    </tr>\n",
       "    <tr>\n",
       "      <th>season</th>\n",
       "      <td>0</td>\n",
       "      <td>0.0</td>\n",
       "    </tr>\n",
       "    <tr>\n",
       "      <th>yr</th>\n",
       "      <td>0</td>\n",
       "      <td>0.0</td>\n",
       "    </tr>\n",
       "    <tr>\n",
       "      <th>mnth</th>\n",
       "      <td>0</td>\n",
       "      <td>0.0</td>\n",
       "    </tr>\n",
       "    <tr>\n",
       "      <th>holiday</th>\n",
       "      <td>0</td>\n",
       "      <td>0.0</td>\n",
       "    </tr>\n",
       "    <tr>\n",
       "      <th>weekday</th>\n",
       "      <td>0</td>\n",
       "      <td>0.0</td>\n",
       "    </tr>\n",
       "    <tr>\n",
       "      <th>workingday</th>\n",
       "      <td>0</td>\n",
       "      <td>0.0</td>\n",
       "    </tr>\n",
       "    <tr>\n",
       "      <th>weathersit</th>\n",
       "      <td>0</td>\n",
       "      <td>0.0</td>\n",
       "    </tr>\n",
       "    <tr>\n",
       "      <th>temp</th>\n",
       "      <td>0</td>\n",
       "      <td>0.0</td>\n",
       "    </tr>\n",
       "    <tr>\n",
       "      <th>atemp</th>\n",
       "      <td>0</td>\n",
       "      <td>0.0</td>\n",
       "    </tr>\n",
       "    <tr>\n",
       "      <th>hum</th>\n",
       "      <td>0</td>\n",
       "      <td>0.0</td>\n",
       "    </tr>\n",
       "    <tr>\n",
       "      <th>windspeed</th>\n",
       "      <td>0</td>\n",
       "      <td>0.0</td>\n",
       "    </tr>\n",
       "    <tr>\n",
       "      <th>cnt</th>\n",
       "      <td>0</td>\n",
       "      <td>0.0</td>\n",
       "    </tr>\n",
       "  </tbody>\n",
       "</table>\n",
       "</div>"
      ],
      "text/plain": [
       "            miss_count  miss_%\n",
       "instant              0     0.0\n",
       "dteday               0     0.0\n",
       "season               0     0.0\n",
       "yr                   0     0.0\n",
       "mnth                 0     0.0\n",
       "holiday              0     0.0\n",
       "weekday              0     0.0\n",
       "workingday           0     0.0\n",
       "weathersit           0     0.0\n",
       "temp                 0     0.0\n",
       "atemp                0     0.0\n",
       "hum                  0     0.0\n",
       "windspeed            0     0.0\n",
       "cnt                  0     0.0"
      ]
     },
     "execution_count": 103,
     "metadata": {},
     "output_type": "execute_result"
    }
   ],
   "source": [
    "miss = pd.DataFrame(df.isnull().sum())\n",
    "miss = miss.rename(columns={0:\"miss_count\"})\n",
    "miss[\"miss_%\"] = (miss.miss_count/len(df.instant))*100\n",
    "miss"
   ]
  },
  {
   "cell_type": "markdown",
   "metadata": {},
   "source": [
    "* The data doesn't seems to have any missing Values."
   ]
  },
  {
   "cell_type": "markdown",
   "metadata": {},
   "source": [
    "### Detecting and removing outlier Removing Outliers"
   ]
  },
  {
   "cell_type": "code",
   "execution_count": 104,
   "metadata": {},
   "outputs": [
    {
     "data": {
      "text/plain": [
       "<matplotlib.axes._subplots.AxesSubplot at 0x23b8887efd0>"
      ]
     },
     "execution_count": 104,
     "metadata": {},
     "output_type": "execute_result"
    },
    {
     "data": {
      "image/png": "[encoded data removed]",
      "text/plain": [
       "<Figure size 1080x360 with 1 Axes>"
      ]
     },
     "metadata": {
      "image/png": {
       "height": 302,
       "width": 883
      },
      "needs_background": "light"
     },
     "output_type": "display_data"
    }
   ],
   "source": [
    "# using box plot\n",
    "df.boxplot(figsize=(15,5))"
   ]
  },
  {
   "cell_type": "code",
   "execution_count": 105,
   "metadata": {
    "scrolled": true
   },
   "outputs": [
    {
     "name": "stdout",
     "output_type": "stream",
     "text": [
      "instant\n",
      "min: -364.0\n",
      "max: 1096.0\n",
      "length: 731\n",
      "season\n",
      "min: 0.5\n",
      "max: 4.5\n",
      "length: 731\n",
      "yr\n",
      "min: -1.5\n",
      "max: 2.5\n",
      "length: 731\n",
      "mnth\n",
      "min: -5.0\n",
      "max: 19.0\n",
      "length: 731\n",
      "holiday\n",
      "min: 0.0\n",
      "max: 0.0\n",
      "length: 710\n",
      "weekday\n",
      "min: -5.0\n",
      "max: 11.0\n",
      "length: 710\n",
      "workingday\n",
      "min: -1.5\n",
      "max: 2.5\n",
      "length: 710\n",
      "weathersit\n",
      "min: -0.5\n",
      "max: 3.5\n",
      "length: 710\n",
      "temp\n",
      "min: -0.12802012499999998\n",
      "max: 1.1244788749999999\n",
      "length: 710\n",
      "atemp\n",
      "min: -0.06603762500000004\n",
      "max: 1.012377375\n",
      "length: 710\n",
      "hum\n",
      "min: 0.20296900000000023\n",
      "max: 1.0467189999999997\n",
      "length: 708\n",
      "windspeed\n",
      "min: -0.013955624999999972\n",
      "max: 0.381501375\n",
      "length: 696\n",
      "cnt\n",
      "min: -883.875\n",
      "max: 10133.125\n",
      "length: 696\n"
     ]
    },
    {
     "data": {
      "text/plain": [
       "(696, 14)"
      ]
     },
     "execution_count": 105,
     "metadata": {},
     "output_type": "execute_result"
    }
   ],
   "source": [
    "df1 = df.copy()\n",
    "cnames=list(df1.columns)\n",
    "for i in cnames:\n",
    "    if isinstance(df1[i].iloc[1] , float) or isinstance(df1[i].iloc[1] , int) or isinstance(df1[i].iloc[1] , np.int64) :\n",
    "        print(i)\n",
    "        q75, q25 = np.percentile(df1.loc[:,i], [75 ,25])\n",
    "        iqr = q75 - q25\n",
    "\n",
    "        min = q25 - (iqr*1.5)\n",
    "        max = q75 + (iqr*1.5)\n",
    "        print(\"min: \"+str(min))\n",
    "        print(\"max: \"+str(max))\n",
    "    \n",
    "        df1 = df1.drop(df1[df1.loc[:,i] < min].index)    \n",
    "        df1 = df1.drop(df1[df1.loc[:,i] > max].index)\n",
    "        #df1[df1.loc[:,i] < min] = np.nan\n",
    "        #df1[df1.loc[:,i] > max] = np.nan\n",
    "        print(\"length: \"+str(len(df1.instant)))\n",
    "    elif isinstance(df1[i].iloc[1] , str):\n",
    "        continue\n",
    "df1.reset_index(drop=True,inplace=True)       \n",
    "df1.shape\n",
    "# creating the list of our purchase type\n",
    "#label = list(data3.PURCHASE_TYPE )"
   ]
  },
  {
   "cell_type": "code",
   "execution_count": 106,
   "metadata": {},
   "outputs": [
    {
     "data": {
      "text/plain": [
       "0       985\n",
       "1       801\n",
       "2      1349\n",
       "3      1562\n",
       "4      1600\n",
       "       ... \n",
       "691    2114\n",
       "692    3095\n",
       "693    1341\n",
       "694    1796\n",
       "695    2729\n",
       "Name: cnt, Length: 696, dtype: int64"
      ]
     },
     "execution_count": 106,
     "metadata": {},
     "output_type": "execute_result"
    }
   ],
   "source": [
    "df1.cnt"
   ]
  },
  {
   "cell_type": "code",
   "execution_count": 107,
   "metadata": {},
   "outputs": [],
   "source": [
    "# saving the target variable\n",
    "count = df1.cnt\n",
    "df1 = df1.iloc[:,2:13]"
   ]
  },
  {
   "cell_type": "code",
   "execution_count": 108,
   "metadata": {},
   "outputs": [
    {
     "data": {
      "text/html": [
       "<div>\n",
       "<style scoped>\n",
       "    .dataframe tbody tr th:only-of-type {\n",
       "        vertical-align: middle;\n",
       "    }\n",
       "\n",
       "    .dataframe tbody tr th {\n",
       "        vertical-align: top;\n",
       "    }\n",
       "\n",
       "    .dataframe thead th {\n",
       "        text-align: right;\n",
       "    }\n",
       "</style>\n",
       "<table border=\"1\" class=\"dataframe\">\n",
       "  <thead>\n",
       "    <tr style=\"text-align: right;\">\n",
       "      <th></th>\n",
       "      <th>season</th>\n",
       "      <th>yr</th>\n",
       "      <th>mnth</th>\n",
       "      <th>holiday</th>\n",
       "      <th>weekday</th>\n",
       "      <th>workingday</th>\n",
       "      <th>weathersit</th>\n",
       "      <th>temp</th>\n",
       "      <th>atemp</th>\n",
       "      <th>hum</th>\n",
       "      <th>windspeed</th>\n",
       "    </tr>\n",
       "  </thead>\n",
       "  <tbody>\n",
       "    <tr>\n",
       "      <th>0</th>\n",
       "      <td>1</td>\n",
       "      <td>0</td>\n",
       "      <td>1</td>\n",
       "      <td>0</td>\n",
       "      <td>6</td>\n",
       "      <td>0</td>\n",
       "      <td>2</td>\n",
       "      <td>0.344167</td>\n",
       "      <td>0.363625</td>\n",
       "      <td>0.805833</td>\n",
       "      <td>0.160446</td>\n",
       "    </tr>\n",
       "    <tr>\n",
       "      <th>1</th>\n",
       "      <td>1</td>\n",
       "      <td>0</td>\n",
       "      <td>1</td>\n",
       "      <td>0</td>\n",
       "      <td>0</td>\n",
       "      <td>0</td>\n",
       "      <td>2</td>\n",
       "      <td>0.363478</td>\n",
       "      <td>0.353739</td>\n",
       "      <td>0.696087</td>\n",
       "      <td>0.248539</td>\n",
       "    </tr>\n",
       "    <tr>\n",
       "      <th>2</th>\n",
       "      <td>1</td>\n",
       "      <td>0</td>\n",
       "      <td>1</td>\n",
       "      <td>0</td>\n",
       "      <td>1</td>\n",
       "      <td>1</td>\n",
       "      <td>1</td>\n",
       "      <td>0.196364</td>\n",
       "      <td>0.189405</td>\n",
       "      <td>0.437273</td>\n",
       "      <td>0.248309</td>\n",
       "    </tr>\n",
       "    <tr>\n",
       "      <th>3</th>\n",
       "      <td>1</td>\n",
       "      <td>0</td>\n",
       "      <td>1</td>\n",
       "      <td>0</td>\n",
       "      <td>2</td>\n",
       "      <td>1</td>\n",
       "      <td>1</td>\n",
       "      <td>0.200000</td>\n",
       "      <td>0.212122</td>\n",
       "      <td>0.590435</td>\n",
       "      <td>0.160296</td>\n",
       "    </tr>\n",
       "    <tr>\n",
       "      <th>4</th>\n",
       "      <td>1</td>\n",
       "      <td>0</td>\n",
       "      <td>1</td>\n",
       "      <td>0</td>\n",
       "      <td>3</td>\n",
       "      <td>1</td>\n",
       "      <td>1</td>\n",
       "      <td>0.226957</td>\n",
       "      <td>0.229270</td>\n",
       "      <td>0.436957</td>\n",
       "      <td>0.186900</td>\n",
       "    </tr>\n",
       "    <tr>\n",
       "      <th>...</th>\n",
       "      <td>...</td>\n",
       "      <td>...</td>\n",
       "      <td>...</td>\n",
       "      <td>...</td>\n",
       "      <td>...</td>\n",
       "      <td>...</td>\n",
       "      <td>...</td>\n",
       "      <td>...</td>\n",
       "      <td>...</td>\n",
       "      <td>...</td>\n",
       "      <td>...</td>\n",
       "    </tr>\n",
       "    <tr>\n",
       "      <th>691</th>\n",
       "      <td>1</td>\n",
       "      <td>1</td>\n",
       "      <td>12</td>\n",
       "      <td>0</td>\n",
       "      <td>4</td>\n",
       "      <td>1</td>\n",
       "      <td>2</td>\n",
       "      <td>0.254167</td>\n",
       "      <td>0.226642</td>\n",
       "      <td>0.652917</td>\n",
       "      <td>0.350133</td>\n",
       "    </tr>\n",
       "    <tr>\n",
       "      <th>692</th>\n",
       "      <td>1</td>\n",
       "      <td>1</td>\n",
       "      <td>12</td>\n",
       "      <td>0</td>\n",
       "      <td>5</td>\n",
       "      <td>1</td>\n",
       "      <td>2</td>\n",
       "      <td>0.253333</td>\n",
       "      <td>0.255046</td>\n",
       "      <td>0.590000</td>\n",
       "      <td>0.155471</td>\n",
       "    </tr>\n",
       "    <tr>\n",
       "      <th>693</th>\n",
       "      <td>1</td>\n",
       "      <td>1</td>\n",
       "      <td>12</td>\n",
       "      <td>0</td>\n",
       "      <td>6</td>\n",
       "      <td>0</td>\n",
       "      <td>2</td>\n",
       "      <td>0.253333</td>\n",
       "      <td>0.242400</td>\n",
       "      <td>0.752917</td>\n",
       "      <td>0.124383</td>\n",
       "    </tr>\n",
       "    <tr>\n",
       "      <th>694</th>\n",
       "      <td>1</td>\n",
       "      <td>1</td>\n",
       "      <td>12</td>\n",
       "      <td>0</td>\n",
       "      <td>0</td>\n",
       "      <td>0</td>\n",
       "      <td>1</td>\n",
       "      <td>0.255833</td>\n",
       "      <td>0.231700</td>\n",
       "      <td>0.483333</td>\n",
       "      <td>0.350754</td>\n",
       "    </tr>\n",
       "    <tr>\n",
       "      <th>695</th>\n",
       "      <td>1</td>\n",
       "      <td>1</td>\n",
       "      <td>12</td>\n",
       "      <td>0</td>\n",
       "      <td>1</td>\n",
       "      <td>1</td>\n",
       "      <td>2</td>\n",
       "      <td>0.215833</td>\n",
       "      <td>0.223487</td>\n",
       "      <td>0.577500</td>\n",
       "      <td>0.154846</td>\n",
       "    </tr>\n",
       "  </tbody>\n",
       "</table>\n",
       "<p>696 rows × 11 columns</p>\n",
       "</div>"
      ],
      "text/plain": [
       "    season yr mnth holiday weekday workingday weathersit      temp     atemp  \\\n",
       "0        1  0    1       0       6          0          2  0.344167  0.363625   \n",
       "1        1  0    1       0       0          0          2  0.363478  0.353739   \n",
       "2        1  0    1       0       1          1          1  0.196364  0.189405   \n",
       "3        1  0    1       0       2          1          1  0.200000  0.212122   \n",
       "4        1  0    1       0       3          1          1  0.226957  0.229270   \n",
       "..     ... ..  ...     ...     ...        ...        ...       ...       ...   \n",
       "691      1  1   12       0       4          1          2  0.254167  0.226642   \n",
       "692      1  1   12       0       5          1          2  0.253333  0.255046   \n",
       "693      1  1   12       0       6          0          2  0.253333  0.242400   \n",
       "694      1  1   12       0       0          0          1  0.255833  0.231700   \n",
       "695      1  1   12       0       1          1          2  0.215833  0.223487   \n",
       "\n",
       "          hum  windspeed  \n",
       "0    0.805833   0.160446  \n",
       "1    0.696087   0.248539  \n",
       "2    0.437273   0.248309  \n",
       "3    0.590435   0.160296  \n",
       "4    0.436957   0.186900  \n",
       "..        ...        ...  \n",
       "691  0.652917   0.350133  \n",
       "692  0.590000   0.155471  \n",
       "693  0.752917   0.124383  \n",
       "694  0.483333   0.350754  \n",
       "695  0.577500   0.154846  \n",
       "\n",
       "[696 rows x 11 columns]"
      ]
     },
     "execution_count": 108,
     "metadata": {},
     "output_type": "execute_result"
    }
   ],
   "source": [
    "df1"
   ]
  },
  {
   "cell_type": "code",
   "execution_count": 109,
   "metadata": {},
   "outputs": [
    {
     "data": {
      "text/plain": [
       "<matplotlib.axes._subplots.AxesSubplot at 0x23b88a70438>"
      ]
     },
     "execution_count": 109,
     "metadata": {},
     "output_type": "execute_result"
    },
    {
     "data": {
      "image/png": "[encoded data removed]",
      "text/plain": [
       "<Figure size 1080x360 with 1 Axes>"
      ]
     },
     "metadata": {
      "image/png": {
       "height": 302,
       "width": 874
      },
      "needs_background": "light"
     },
     "output_type": "display_data"
    }
   ],
   "source": [
    "# using box plot\n",
    "df1.boxplot(figsize=(15,5))"
   ]
  },
  {
   "cell_type": "markdown",
   "metadata": {},
   "source": [
    "* Only 655 data points left After Removal of all possible outliers."
   ]
  },
  {
   "cell_type": "markdown",
   "metadata": {},
   "source": [
    "### Checking the Distribution of data"
   ]
  },
  {
   "cell_type": "code",
   "execution_count": 110,
   "metadata": {
    "scrolled": true
   },
   "outputs": [
    {
     "data": {
      "text/plain": [
       "array([[<matplotlib.axes._subplots.AxesSubplot object at 0x0000023B88947390>,\n",
       "        <matplotlib.axes._subplots.AxesSubplot object at 0x0000023B8A78ACC0>],\n",
       "       [<matplotlib.axes._subplots.AxesSubplot object at 0x0000023B8A7C62B0>,\n",
       "        <matplotlib.axes._subplots.AxesSubplot object at 0x0000023B8A7F8860>]],\n",
       "      dtype=object)"
      ]
     },
     "execution_count": 110,
     "metadata": {},
     "output_type": "execute_result"
    },
    {
     "data": {
      "image/png": "[encoded data removed]",
      "text/plain": [
       "<Figure size 1440x720 with 4 Axes>"
      ]
     },
     "metadata": {
      "image/png": {
       "height": 590,
       "width": 1152
      },
      "needs_background": "light"
     },
     "output_type": "display_data"
    }
   ],
   "source": [
    "#calculating no. of bins\n",
    "aa=round(np.sqrt(len(df1.yr)))\n",
    "#Creating a histogram\n",
    "df1.hist(figsize=(20,10),bins=int(aa))"
   ]
  },
  {
   "cell_type": "code",
   "execution_count": null,
   "metadata": {},
   "outputs": [],
   "source": []
  },
  {
   "cell_type": "markdown",
   "metadata": {},
   "source": [
    "## Model1\n",
    "### Linear Regression\n",
    "#### Assumption\n",
    "1. There must be a linear relationship between the dependent variable and the independent variables.  Scatterplots can show whether there is a linear or curvilinear relationship.\n",
    "2. Multivariate Normality–Multiple regression assumes that the residuals are normally distributed.\n",
    "3. No Multicollinearity—Multiple regression assumes that the independent variables are not highly correlated with each other.  This assumption is tested using Variance Inflation Factor (VIF) values.\n",
    "4. Homoscedasticity–This assumption states that the variance of error terms are similar across the values of the independent variables.  A plot of standardized residuals versus predicted values can show whether points are equally distributed across all values of the independent variables."
   ]
  },
  {
   "cell_type": "code",
   "execution_count": 111,
   "metadata": {},
   "outputs": [
    {
     "name": "stdout",
     "output_type": "stream",
     "text": [
      "<class 'pandas.core.frame.DataFrame'>\n",
      "RangeIndex: 696 entries, 0 to 695\n",
      "Data columns (total 12 columns):\n",
      "season        696 non-null int64\n",
      "yr            696 non-null int64\n",
      "mnth          696 non-null int64\n",
      "holiday       696 non-null int64\n",
      "weekday       696 non-null int64\n",
      "workingday    696 non-null int64\n",
      "weathersit    696 non-null int64\n",
      "temp          696 non-null float64\n",
      "atemp         696 non-null float64\n",
      "hum           696 non-null float64\n",
      "windspeed     696 non-null float64\n",
      "count         696 non-null int64\n",
      "dtypes: float64(4), int64(8)\n",
      "memory usage: 65.4 KB\n"
     ]
    }
   ],
   "source": [
    "df2 =df1.copy()\n",
    "# changing datatype of variables\n",
    "df2['season']= df2['season'].astype('int64')\n",
    "df2['mnth']=df2['mnth'].astype('int64')\n",
    "df2['weekday']=df2['weekday'].astype('int64')\n",
    "df2['weathersit']=df2['weathersit'].astype('int64')\n",
    "df2['workingday']=df2['workingday'].astype('int64')\n",
    "df2['yr']=df2['yr'].astype('int64')\n",
    "df2['holiday']=df2['holiday'].astype('int64')\n",
    "df2[\"count\"] = count\n",
    "df2.info()"
   ]
  },
  {
   "cell_type": "code",
   "execution_count": 112,
   "metadata": {},
   "outputs": [
    {
     "data": {
      "text/html": [
       "<div>\n",
       "<style scoped>\n",
       "    .dataframe tbody tr th:only-of-type {\n",
       "        vertical-align: middle;\n",
       "    }\n",
       "\n",
       "    .dataframe tbody tr th {\n",
       "        vertical-align: top;\n",
       "    }\n",
       "\n",
       "    .dataframe thead th {\n",
       "        text-align: right;\n",
       "    }\n",
       "</style>\n",
       "<table border=\"1\" class=\"dataframe\">\n",
       "  <thead>\n",
       "    <tr style=\"text-align: right;\">\n",
       "      <th></th>\n",
       "      <th>season</th>\n",
       "      <th>yr</th>\n",
       "      <th>mnth</th>\n",
       "      <th>holiday</th>\n",
       "      <th>weekday</th>\n",
       "      <th>workingday</th>\n",
       "      <th>weathersit</th>\n",
       "      <th>temp</th>\n",
       "      <th>atemp</th>\n",
       "      <th>hum</th>\n",
       "      <th>windspeed</th>\n",
       "    </tr>\n",
       "  </thead>\n",
       "  <tbody>\n",
       "    <tr>\n",
       "      <th>0</th>\n",
       "      <td>1</td>\n",
       "      <td>0</td>\n",
       "      <td>1</td>\n",
       "      <td>0</td>\n",
       "      <td>6</td>\n",
       "      <td>0</td>\n",
       "      <td>2</td>\n",
       "      <td>0.344167</td>\n",
       "      <td>0.363625</td>\n",
       "      <td>0.805833</td>\n",
       "      <td>0.160446</td>\n",
       "    </tr>\n",
       "    <tr>\n",
       "      <th>1</th>\n",
       "      <td>1</td>\n",
       "      <td>0</td>\n",
       "      <td>1</td>\n",
       "      <td>0</td>\n",
       "      <td>0</td>\n",
       "      <td>0</td>\n",
       "      <td>2</td>\n",
       "      <td>0.363478</td>\n",
       "      <td>0.353739</td>\n",
       "      <td>0.696087</td>\n",
       "      <td>0.248539</td>\n",
       "    </tr>\n",
       "    <tr>\n",
       "      <th>2</th>\n",
       "      <td>1</td>\n",
       "      <td>0</td>\n",
       "      <td>1</td>\n",
       "      <td>0</td>\n",
       "      <td>1</td>\n",
       "      <td>1</td>\n",
       "      <td>1</td>\n",
       "      <td>0.196364</td>\n",
       "      <td>0.189405</td>\n",
       "      <td>0.437273</td>\n",
       "      <td>0.248309</td>\n",
       "    </tr>\n",
       "    <tr>\n",
       "      <th>3</th>\n",
       "      <td>1</td>\n",
       "      <td>0</td>\n",
       "      <td>1</td>\n",
       "      <td>0</td>\n",
       "      <td>2</td>\n",
       "      <td>1</td>\n",
       "      <td>1</td>\n",
       "      <td>0.200000</td>\n",
       "      <td>0.212122</td>\n",
       "      <td>0.590435</td>\n",
       "      <td>0.160296</td>\n",
       "    </tr>\n",
       "    <tr>\n",
       "      <th>4</th>\n",
       "      <td>1</td>\n",
       "      <td>0</td>\n",
       "      <td>1</td>\n",
       "      <td>0</td>\n",
       "      <td>3</td>\n",
       "      <td>1</td>\n",
       "      <td>1</td>\n",
       "      <td>0.226957</td>\n",
       "      <td>0.229270</td>\n",
       "      <td>0.436957</td>\n",
       "      <td>0.186900</td>\n",
       "    </tr>\n",
       "    <tr>\n",
       "      <th>...</th>\n",
       "      <td>...</td>\n",
       "      <td>...</td>\n",
       "      <td>...</td>\n",
       "      <td>...</td>\n",
       "      <td>...</td>\n",
       "      <td>...</td>\n",
       "      <td>...</td>\n",
       "      <td>...</td>\n",
       "      <td>...</td>\n",
       "      <td>...</td>\n",
       "      <td>...</td>\n",
       "    </tr>\n",
       "    <tr>\n",
       "      <th>691</th>\n",
       "      <td>1</td>\n",
       "      <td>1</td>\n",
       "      <td>12</td>\n",
       "      <td>0</td>\n",
       "      <td>4</td>\n",
       "      <td>1</td>\n",
       "      <td>2</td>\n",
       "      <td>0.254167</td>\n",
       "      <td>0.226642</td>\n",
       "      <td>0.652917</td>\n",
       "      <td>0.350133</td>\n",
       "    </tr>\n",
       "    <tr>\n",
       "      <th>692</th>\n",
       "      <td>1</td>\n",
       "      <td>1</td>\n",
       "      <td>12</td>\n",
       "      <td>0</td>\n",
       "      <td>5</td>\n",
       "      <td>1</td>\n",
       "      <td>2</td>\n",
       "      <td>0.253333</td>\n",
       "      <td>0.255046</td>\n",
       "      <td>0.590000</td>\n",
       "      <td>0.155471</td>\n",
       "    </tr>\n",
       "    <tr>\n",
       "      <th>693</th>\n",
       "      <td>1</td>\n",
       "      <td>1</td>\n",
       "      <td>12</td>\n",
       "      <td>0</td>\n",
       "      <td>6</td>\n",
       "      <td>0</td>\n",
       "      <td>2</td>\n",
       "      <td>0.253333</td>\n",
       "      <td>0.242400</td>\n",
       "      <td>0.752917</td>\n",
       "      <td>0.124383</td>\n",
       "    </tr>\n",
       "    <tr>\n",
       "      <th>694</th>\n",
       "      <td>1</td>\n",
       "      <td>1</td>\n",
       "      <td>12</td>\n",
       "      <td>0</td>\n",
       "      <td>0</td>\n",
       "      <td>0</td>\n",
       "      <td>1</td>\n",
       "      <td>0.255833</td>\n",
       "      <td>0.231700</td>\n",
       "      <td>0.483333</td>\n",
       "      <td>0.350754</td>\n",
       "    </tr>\n",
       "    <tr>\n",
       "      <th>695</th>\n",
       "      <td>1</td>\n",
       "      <td>1</td>\n",
       "      <td>12</td>\n",
       "      <td>0</td>\n",
       "      <td>1</td>\n",
       "      <td>1</td>\n",
       "      <td>2</td>\n",
       "      <td>0.215833</td>\n",
       "      <td>0.223487</td>\n",
       "      <td>0.577500</td>\n",
       "      <td>0.154846</td>\n",
       "    </tr>\n",
       "  </tbody>\n",
       "</table>\n",
       "<p>696 rows × 11 columns</p>\n",
       "</div>"
      ],
      "text/plain": [
       "     season  yr  mnth  holiday  weekday  workingday  weathersit      temp  \\\n",
       "0         1   0     1        0        6           0           2  0.344167   \n",
       "1         1   0     1        0        0           0           2  0.363478   \n",
       "2         1   0     1        0        1           1           1  0.196364   \n",
       "3         1   0     1        0        2           1           1  0.200000   \n",
       "4         1   0     1        0        3           1           1  0.226957   \n",
       "..      ...  ..   ...      ...      ...         ...         ...       ...   \n",
       "691       1   1    12        0        4           1           2  0.254167   \n",
       "692       1   1    12        0        5           1           2  0.253333   \n",
       "693       1   1    12        0        6           0           2  0.253333   \n",
       "694       1   1    12        0        0           0           1  0.255833   \n",
       "695       1   1    12        0        1           1           2  0.215833   \n",
       "\n",
       "        atemp       hum  windspeed  \n",
       "0    0.363625  0.805833   0.160446  \n",
       "1    0.353739  0.696087   0.248539  \n",
       "2    0.189405  0.437273   0.248309  \n",
       "3    0.212122  0.590435   0.160296  \n",
       "4    0.229270  0.436957   0.186900  \n",
       "..        ...       ...        ...  \n",
       "691  0.226642  0.652917   0.350133  \n",
       "692  0.255046  0.590000   0.155471  \n",
       "693  0.242400  0.752917   0.124383  \n",
       "694  0.231700  0.483333   0.350754  \n",
       "695  0.223487  0.577500   0.154846  \n",
       "\n",
       "[696 rows x 11 columns]"
      ]
     },
     "execution_count": 112,
     "metadata": {},
     "output_type": "execute_result"
    }
   ],
   "source": [
    "df2.iloc[:,0:11]"
   ]
  },
  {
   "cell_type": "markdown",
   "metadata": {},
   "source": [
    "### 1. Identifying whether there is a linear relationship or not between the Target and the dependent variables."
   ]
  },
  {
   "cell_type": "code",
   "execution_count": 113,
   "metadata": {
    "scrolled": false
   },
   "outputs": [
    {
     "data": {
      "text/html": [
       "<table class=\"simpletable\">\n",
       "<caption>OLS Regression Results</caption>\n",
       "<tr>\n",
       "  <th>Dep. Variable:</th>          <td>count</td>      <th>  R-squared (uncentered):</th>      <td>   0.969</td>\n",
       "</tr>\n",
       "<tr>\n",
       "  <th>Model:</th>                   <td>OLS</td>       <th>  Adj. R-squared (uncentered):</th> <td>   0.968</td>\n",
       "</tr>\n",
       "<tr>\n",
       "  <th>Method:</th>             <td>Least Squares</td>  <th>  F-statistic:       </th>          <td>   1694.</td>\n",
       "</tr>\n",
       "<tr>\n",
       "  <th>Date:</th>             <td>Tue, 17 Mar 2020</td> <th>  Prob (F-statistic):</th>           <td>  0.00</td> \n",
       "</tr>\n",
       "<tr>\n",
       "  <th>Time:</th>                 <td>23:56:12</td>     <th>  Log-Likelihood:    </th>          <td> -4563.9</td>\n",
       "</tr>\n",
       "<tr>\n",
       "  <th>No. Observations:</th>      <td>   556</td>      <th>  AIC:               </th>          <td>   9148.</td>\n",
       "</tr>\n",
       "<tr>\n",
       "  <th>Df Residuals:</th>          <td>   546</td>      <th>  BIC:               </th>          <td>   9191.</td>\n",
       "</tr>\n",
       "<tr>\n",
       "  <th>Df Model:</th>              <td>    10</td>      <th>                     </th>              <td> </td>   \n",
       "</tr>\n",
       "<tr>\n",
       "  <th>Covariance Type:</th>      <td>nonrobust</td>    <th>                     </th>              <td> </td>   \n",
       "</tr>\n",
       "</table>\n",
       "<table class=\"simpletable\">\n",
       "<tr>\n",
       "       <td></td>         <th>coef</th>     <th>std err</th>      <th>t</th>      <th>P>|t|</th>  <th>[0.025</th>    <th>0.975]</th>  \n",
       "</tr>\n",
       "<tr>\n",
       "  <th>season</th>     <td>  557.7120</td> <td>   66.494</td> <td>    8.387</td> <td> 0.000</td> <td>  427.097</td> <td>  688.327</td>\n",
       "</tr>\n",
       "<tr>\n",
       "  <th>yr</th>         <td> 2219.5686</td> <td>   75.258</td> <td>   29.493</td> <td> 0.000</td> <td> 2071.737</td> <td> 2367.400</td>\n",
       "</tr>\n",
       "<tr>\n",
       "  <th>mnth</th>       <td>  -35.4822</td> <td>   20.891</td> <td>   -1.698</td> <td> 0.090</td> <td>  -76.519</td> <td>    5.555</td>\n",
       "</tr>\n",
       "<tr>\n",
       "  <th>holiday</th>    <td> 1.597e-12</td> <td> 3.99e-13</td> <td>    4.006</td> <td> 0.000</td> <td> 8.14e-13</td> <td> 2.38e-12</td>\n",
       "</tr>\n",
       "<tr>\n",
       "  <th>weekday</th>    <td>  118.3828</td> <td>   18.299</td> <td>    6.469</td> <td> 0.000</td> <td>   82.437</td> <td>  154.328</td>\n",
       "</tr>\n",
       "<tr>\n",
       "  <th>workingday</th> <td>  153.3232</td> <td>   82.182</td> <td>    1.866</td> <td> 0.063</td> <td>   -8.108</td> <td>  314.754</td>\n",
       "</tr>\n",
       "<tr>\n",
       "  <th>weathersit</th> <td> -695.7573</td> <td>   95.876</td> <td>   -7.257</td> <td> 0.000</td> <td> -884.089</td> <td> -507.425</td>\n",
       "</tr>\n",
       "<tr>\n",
       "  <th>temp</th>       <td> 1015.1217</td> <td> 1488.082</td> <td>    0.682</td> <td> 0.495</td> <td>-1907.945</td> <td> 3938.188</td>\n",
       "</tr>\n",
       "<tr>\n",
       "  <th>atemp</th>      <td> 4955.3734</td> <td> 1670.313</td> <td>    2.967</td> <td> 0.003</td> <td> 1674.348</td> <td> 8236.399</td>\n",
       "</tr>\n",
       "<tr>\n",
       "  <th>hum</th>        <td>   52.7458</td> <td>  328.637</td> <td>    0.160</td> <td> 0.873</td> <td> -592.803</td> <td>  698.294</td>\n",
       "</tr>\n",
       "<tr>\n",
       "  <th>windspeed</th>  <td> -767.2516</td> <td>  461.578</td> <td>   -1.662</td> <td> 0.097</td> <td>-1673.938</td> <td>  139.435</td>\n",
       "</tr>\n",
       "</table>\n",
       "<table class=\"simpletable\">\n",
       "<tr>\n",
       "  <th>Omnibus:</th>       <td>87.092</td> <th>  Durbin-Watson:     </th> <td>   2.108</td>\n",
       "</tr>\n",
       "<tr>\n",
       "  <th>Prob(Omnibus):</th> <td> 0.000</td> <th>  Jarque-Bera (JB):  </th> <td> 194.462</td>\n",
       "</tr>\n",
       "<tr>\n",
       "  <th>Skew:</th>          <td>-0.843</td> <th>  Prob(JB):          </th> <td>5.93e-43</td>\n",
       "</tr>\n",
       "<tr>\n",
       "  <th>Kurtosis:</th>      <td> 5.356</td> <th>  Cond. No.          </th> <td>7.48e+19</td>\n",
       "</tr>\n",
       "</table><br/><br/>Warnings:<br/>[1] Standard Errors assume that the covariance matrix of the errors is correctly specified.<br/>[2] The smallest eigenvalue is 7.3e-36. This might indicate that there are<br/>strong multicollinearity problems or that the design matrix is singular."
      ],
      "text/plain": [
       "<class 'statsmodels.iolib.summary.Summary'>\n",
       "\"\"\"\n",
       "                                 OLS Regression Results                                \n",
       "=======================================================================================\n",
       "Dep. Variable:                  count   R-squared (uncentered):                   0.969\n",
       "Model:                            OLS   Adj. R-squared (uncentered):              0.968\n",
       "Method:                 Least Squares   F-statistic:                              1694.\n",
       "Date:                Tue, 17 Mar 2020   Prob (F-statistic):                        0.00\n",
       "Time:                        23:56:12   Log-Likelihood:                         -4563.9\n",
       "No. Observations:                 556   AIC:                                      9148.\n",
       "Df Residuals:                     546   BIC:                                      9191.\n",
       "Df Model:                          10                                                  \n",
       "Covariance Type:            nonrobust                                                  \n",
       "==============================================================================\n",
       "                 coef    std err          t      P>|t|      [0.025      0.975]\n",
       "------------------------------------------------------------------------------\n",
       "season       557.7120     66.494      8.387      0.000     427.097     688.327\n",
       "yr          2219.5686     75.258     29.493      0.000    2071.737    2367.400\n",
       "mnth         -35.4822     20.891     -1.698      0.090     -76.519       5.555\n",
       "holiday     1.597e-12   3.99e-13      4.006      0.000    8.14e-13    2.38e-12\n",
       "weekday      118.3828     18.299      6.469      0.000      82.437     154.328\n",
       "workingday   153.3232     82.182      1.866      0.063      -8.108     314.754\n",
       "weathersit  -695.7573     95.876     -7.257      0.000    -884.089    -507.425\n",
       "temp        1015.1217   1488.082      0.682      0.495   -1907.945    3938.188\n",
       "atemp       4955.3734   1670.313      2.967      0.003    1674.348    8236.399\n",
       "hum           52.7458    328.637      0.160      0.873    -592.803     698.294\n",
       "windspeed   -767.2516    461.578     -1.662      0.097   -1673.938     139.435\n",
       "==============================================================================\n",
       "Omnibus:                       87.092   Durbin-Watson:                   2.108\n",
       "Prob(Omnibus):                  0.000   Jarque-Bera (JB):              194.462\n",
       "Skew:                          -0.843   Prob(JB):                     5.93e-43\n",
       "Kurtosis:                       5.356   Cond. No.                     7.48e+19\n",
       "==============================================================================\n",
       "\n",
       "Warnings:\n",
       "[1] Standard Errors assume that the covariance matrix of the errors is correctly specified.\n",
       "[2] The smallest eigenvalue is 7.3e-36. This might indicate that there are\n",
       "strong multicollinearity problems or that the design matrix is singular.\n",
       "\"\"\""
      ]
     },
     "execution_count": 113,
     "metadata": {},
     "output_type": "execute_result"
    }
   ],
   "source": [
    "from sklearn.model_selection import train_test_split\n",
    "import statsmodels.api as sm\n",
    "train, test = train_test_split(df2, test_size=0.2)\n",
    "model1 = sm.OLS(train.iloc[:,11], train.iloc[:,0:11]).fit()\n",
    "model1.summary()"
   ]
  },
  {
   "cell_type": "code",
   "execution_count": 114,
   "metadata": {},
   "outputs": [],
   "source": [
    "def MAPE(y_true, y_pred): \n",
    "    mape = np.mean(np.abs((y_true - y_pred) / y_true))*100\n",
    "    return mape\n",
    "import math\n",
    "from sklearn.metrics import r2_score\n",
    "from sklearn.metrics import mean_squared_error\n",
    "testp = model1.predict(test.iloc[:,0:11])"
   ]
  },
  {
   "cell_type": "code",
   "execution_count": 115,
   "metadata": {
    "scrolled": true
   },
   "outputs": [
    {
     "data": {
      "text/plain": [
       "18.78733940426562"
      ]
     },
     "execution_count": 115,
     "metadata": {},
     "output_type": "execute_result"
    }
   ],
   "source": [
    "MAPE(test.iloc[:,11],testp)"
   ]
  },
  {
   "cell_type": "code",
   "execution_count": 116,
   "metadata": {},
   "outputs": [
    {
     "data": {
      "text/plain": [
       "(0.7659633574226068, 877.0640414849721)"
      ]
     },
     "execution_count": 116,
     "metadata": {},
     "output_type": "execute_result"
    }
   ],
   "source": [
    "r2_score(test.iloc[:,11],testp),math.sqrt(mean_squared_error(test.iloc[:,11],testp))"
   ]
  },
  {
   "cell_type": "code",
   "execution_count": 117,
   "metadata": {},
   "outputs": [
    {
     "data": {
      "image/png": "[encoded data removed]",
      "text/plain": [
       "<Figure size 1080x648 with 2 Axes>"
      ]
     },
     "metadata": {
      "image/png": {
       "height": 551,
       "width": 897
      },
      "needs_background": "light"
     },
     "output_type": "display_data"
    }
   ],
   "source": [
    "%matplotlib inline\n",
    "%config InlineBackend.figure_format ='retina'\n",
    "import seaborn as sns \n",
    "import matplotlib.pyplot as plt\n",
    "import statsmodels.stats.api as sms\n",
    "#sns.set_style('darkgrid')\n",
    "sns.mpl.rcParams['figure.figsize'] = (15.0, 9.0)\n",
    "\n",
    "model1 = sm.OLS(df2.iloc[:,11], df2.iloc[:,0:11]).fit()\n",
    "model1.summary()\n",
    "\n",
    "def linearity_test(model, y):\n",
    "    '''\n",
    "    Function for visually inspecting the assumption of linearity in a linear regression model.\n",
    "    It plots observed vs. predicted values and residuals vs. predicted values.\n",
    "    \n",
    "    Args:\n",
    "    * model - fitted OLS model from statsmodels\n",
    "    * y - observed values\n",
    "    '''\n",
    "    fitted_vals = model.predict()\n",
    "    resids = model.resid\n",
    "\n",
    "    fig, ax = plt.subplots(1,2)\n",
    "    \n",
    "    sns.regplot(x=fitted_vals, y=y, lowess=True, ax=ax[0], line_kws={'color': 'red'})\n",
    "    ax[0].set_title('Observed vs. Predicted Values', fontsize=16)\n",
    "    ax[0].set(xlabel='Predicted', ylabel='Observed')\n",
    "\n",
    "    sns.regplot(x=fitted_vals, y=resids, lowess=True, ax=ax[1], line_kws={'color': 'red'})\n",
    "    ax[1].set_title('Residuals vs. Predicted Values', fontsize=16)\n",
    "    ax[1].set(xlabel='Predicted', ylabel='Residuals')\n",
    "    \n",
    "linearity_test(model1, count) \n",
    "#count"
   ]
  },
  {
   "cell_type": "markdown",
   "metadata": {},
   "source": [
    "##### from the above Graph we can see that there is a linear relationship between variables.\n",
    "* they’re pretty symmetrically distributed, tending to cluster towards the middle of the plot"
   ]
  },
  {
   "cell_type": "markdown",
   "metadata": {},
   "source": [
    "### 2. Identifying Multivariate Normality. \n",
    "* plotting Residuals with theoritical quantiles."
   ]
  },
  {
   "cell_type": "code",
   "execution_count": 118,
   "metadata": {},
   "outputs": [
    {
     "data": {
      "image/png": "[encoded data removed]",
      "text/plain": [
       "<Figure size 432x360 with 1 Axes>"
      ]
     },
     "metadata": {
      "image/png": {
       "height": 331,
       "width": 403
      },
      "needs_background": "light"
     },
     "output_type": "display_data"
    }
   ],
   "source": [
    "import scipy as sp\n",
    "resids = model1.resid\n",
    "fig, ax = plt.subplots(figsize=(6,5))\n",
    "a = sp.stats.probplot(resids, plot=ax)"
   ]
  },
  {
   "cell_type": "markdown",
   "metadata": {},
   "source": [
    "* The good fit indicates that normality is a reasonable approximation."
   ]
  },
  {
   "cell_type": "markdown",
   "metadata": {},
   "source": [
    "### 3. Identifying and Removing Multicolinearity from the data"
   ]
  },
  {
   "cell_type": "code",
   "execution_count": 119,
   "metadata": {},
   "outputs": [],
   "source": [
    "##Correlation analysis\n",
    "#Correlation plot\n",
    "df_corr = df2"
   ]
  },
  {
   "cell_type": "code",
   "execution_count": 120,
   "metadata": {},
   "outputs": [
    {
     "data": {
      "text/plain": [
       "<matplotlib.axes._subplots.AxesSubplot at 0x23b8aafb5f8>"
      ]
     },
     "execution_count": 120,
     "metadata": {},
     "output_type": "execute_result"
    },
    {
     "data": {
      "image/png": "[encoded data removed]",
      "text/plain": [
       "<Figure size 1080x504 with 2 Axes>"
      ]
     },
     "metadata": {
      "image/png": {
       "height": 463,
       "width": 552
      },
      "needs_background": "light"
     },
     "output_type": "display_data"
    }
   ],
   "source": [
    "#Set the width and hieght of the plot\n",
    "f, ax = plt.subplots(figsize=(15, 7))\n",
    "\n",
    "#Generate correlation matrix\n",
    "corr = df_corr.corr()\n",
    "\n",
    "#Plot using seaborn library\n",
    "sns.heatmap(corr, mask=np.zeros_like(corr, dtype=np.bool), cmap=sns.diverging_palette(220, 10, as_cmap=True),\n",
    "            square=True, ax=ax)"
   ]
  },
  {
   "cell_type": "code",
   "execution_count": 121,
   "metadata": {
    "scrolled": true
   },
   "outputs": [
    {
     "data": {
      "text/html": [
       "<div>\n",
       "<style scoped>\n",
       "    .dataframe tbody tr th:only-of-type {\n",
       "        vertical-align: middle;\n",
       "    }\n",
       "\n",
       "    .dataframe tbody tr th {\n",
       "        vertical-align: top;\n",
       "    }\n",
       "\n",
       "    .dataframe thead th {\n",
       "        text-align: right;\n",
       "    }\n",
       "</style>\n",
       "<table border=\"1\" class=\"dataframe\">\n",
       "  <thead>\n",
       "    <tr style=\"text-align: right;\">\n",
       "      <th></th>\n",
       "      <th>season</th>\n",
       "      <th>yr</th>\n",
       "      <th>mnth</th>\n",
       "      <th>holiday</th>\n",
       "      <th>weekday</th>\n",
       "      <th>workingday</th>\n",
       "      <th>weathersit</th>\n",
       "      <th>temp</th>\n",
       "      <th>atemp</th>\n",
       "      <th>hum</th>\n",
       "      <th>windspeed</th>\n",
       "      <th>count</th>\n",
       "    </tr>\n",
       "  </thead>\n",
       "  <tbody>\n",
       "    <tr>\n",
       "      <th>season</th>\n",
       "      <td>1.000000</td>\n",
       "      <td>0.005261</td>\n",
       "      <td>0.840437</td>\n",
       "      <td>NaN</td>\n",
       "      <td>-0.005433</td>\n",
       "      <td>0.007843</td>\n",
       "      <td>0.020594</td>\n",
       "      <td>0.326296</td>\n",
       "      <td>0.333270</td>\n",
       "      <td>0.176159</td>\n",
       "      <td>-0.196127</td>\n",
       "      <td>0.396186</td>\n",
       "    </tr>\n",
       "    <tr>\n",
       "      <th>yr</th>\n",
       "      <td>0.005261</td>\n",
       "      <td>1.000000</td>\n",
       "      <td>0.001304</td>\n",
       "      <td>NaN</td>\n",
       "      <td>-0.001388</td>\n",
       "      <td>0.007599</td>\n",
       "      <td>-0.040053</td>\n",
       "      <td>0.056605</td>\n",
       "      <td>0.055656</td>\n",
       "      <td>-0.121518</td>\n",
       "      <td>-0.024964</td>\n",
       "      <td>0.583527</td>\n",
       "    </tr>\n",
       "    <tr>\n",
       "      <th>mnth</th>\n",
       "      <td>0.840437</td>\n",
       "      <td>0.001304</td>\n",
       "      <td>1.000000</td>\n",
       "      <td>NaN</td>\n",
       "      <td>0.003533</td>\n",
       "      <td>0.002860</td>\n",
       "      <td>0.045158</td>\n",
       "      <td>0.218620</td>\n",
       "      <td>0.224812</td>\n",
       "      <td>0.200747</td>\n",
       "      <td>-0.182652</td>\n",
       "      <td>0.283133</td>\n",
       "    </tr>\n",
       "    <tr>\n",
       "      <th>holiday</th>\n",
       "      <td>NaN</td>\n",
       "      <td>NaN</td>\n",
       "      <td>NaN</td>\n",
       "      <td>NaN</td>\n",
       "      <td>NaN</td>\n",
       "      <td>NaN</td>\n",
       "      <td>NaN</td>\n",
       "      <td>NaN</td>\n",
       "      <td>NaN</td>\n",
       "      <td>NaN</td>\n",
       "      <td>NaN</td>\n",
       "      <td>NaN</td>\n",
       "    </tr>\n",
       "    <tr>\n",
       "      <th>weekday</th>\n",
       "      <td>-0.005433</td>\n",
       "      <td>-0.001388</td>\n",
       "      <td>0.003533</td>\n",
       "      <td>NaN</td>\n",
       "      <td>1.000000</td>\n",
       "      <td>0.014905</td>\n",
       "      <td>0.034451</td>\n",
       "      <td>0.001777</td>\n",
       "      <td>-0.006580</td>\n",
       "      <td>-0.042619</td>\n",
       "      <td>0.012292</td>\n",
       "      <td>0.070244</td>\n",
       "    </tr>\n",
       "    <tr>\n",
       "      <th>workingday</th>\n",
       "      <td>0.007843</td>\n",
       "      <td>0.007599</td>\n",
       "      <td>0.002860</td>\n",
       "      <td>NaN</td>\n",
       "      <td>0.014905</td>\n",
       "      <td>1.000000</td>\n",
       "      <td>0.051341</td>\n",
       "      <td>0.040068</td>\n",
       "      <td>0.037123</td>\n",
       "      <td>0.018048</td>\n",
       "      <td>-0.006540</td>\n",
       "      <td>0.040050</td>\n",
       "    </tr>\n",
       "    <tr>\n",
       "      <th>weathersit</th>\n",
       "      <td>0.020594</td>\n",
       "      <td>-0.040053</td>\n",
       "      <td>0.045158</td>\n",
       "      <td>NaN</td>\n",
       "      <td>0.034451</td>\n",
       "      <td>0.051341</td>\n",
       "      <td>1.000000</td>\n",
       "      <td>-0.126561</td>\n",
       "      <td>-0.128650</td>\n",
       "      <td>0.630695</td>\n",
       "      <td>0.061170</td>\n",
       "      <td>-0.307263</td>\n",
       "    </tr>\n",
       "    <tr>\n",
       "      <th>temp</th>\n",
       "      <td>0.326296</td>\n",
       "      <td>0.056605</td>\n",
       "      <td>0.218620</td>\n",
       "      <td>NaN</td>\n",
       "      <td>0.001777</td>\n",
       "      <td>0.040068</td>\n",
       "      <td>-0.126561</td>\n",
       "      <td>1.000000</td>\n",
       "      <td>0.991518</td>\n",
       "      <td>0.103624</td>\n",
       "      <td>-0.130387</td>\n",
       "      <td>0.619427</td>\n",
       "    </tr>\n",
       "    <tr>\n",
       "      <th>atemp</th>\n",
       "      <td>0.333270</td>\n",
       "      <td>0.055656</td>\n",
       "      <td>0.224812</td>\n",
       "      <td>NaN</td>\n",
       "      <td>-0.006580</td>\n",
       "      <td>0.037123</td>\n",
       "      <td>-0.128650</td>\n",
       "      <td>0.991518</td>\n",
       "      <td>1.000000</td>\n",
       "      <td>0.115488</td>\n",
       "      <td>-0.156090</td>\n",
       "      <td>0.622290</td>\n",
       "    </tr>\n",
       "    <tr>\n",
       "      <th>hum</th>\n",
       "      <td>0.176159</td>\n",
       "      <td>-0.121518</td>\n",
       "      <td>0.200747</td>\n",
       "      <td>NaN</td>\n",
       "      <td>-0.042619</td>\n",
       "      <td>0.018048</td>\n",
       "      <td>0.630695</td>\n",
       "      <td>0.103624</td>\n",
       "      <td>0.115488</td>\n",
       "      <td>1.000000</td>\n",
       "      <td>-0.196551</td>\n",
       "      <td>-0.151820</td>\n",
       "    </tr>\n",
       "    <tr>\n",
       "      <th>windspeed</th>\n",
       "      <td>-0.196127</td>\n",
       "      <td>-0.024964</td>\n",
       "      <td>-0.182652</td>\n",
       "      <td>NaN</td>\n",
       "      <td>0.012292</td>\n",
       "      <td>-0.006540</td>\n",
       "      <td>0.061170</td>\n",
       "      <td>-0.130387</td>\n",
       "      <td>-0.156090</td>\n",
       "      <td>-0.196551</td>\n",
       "      <td>1.000000</td>\n",
       "      <td>-0.211559</td>\n",
       "    </tr>\n",
       "    <tr>\n",
       "      <th>count</th>\n",
       "      <td>0.396186</td>\n",
       "      <td>0.583527</td>\n",
       "      <td>0.283133</td>\n",
       "      <td>NaN</td>\n",
       "      <td>0.070244</td>\n",
       "      <td>0.040050</td>\n",
       "      <td>-0.307263</td>\n",
       "      <td>0.619427</td>\n",
       "      <td>0.622290</td>\n",
       "      <td>-0.151820</td>\n",
       "      <td>-0.211559</td>\n",
       "      <td>1.000000</td>\n",
       "    </tr>\n",
       "  </tbody>\n",
       "</table>\n",
       "</div>"
      ],
      "text/plain": [
       "              season        yr      mnth  holiday   weekday  workingday  \\\n",
       "season      1.000000  0.005261  0.840437      NaN -0.005433    0.007843   \n",
       "yr          0.005261  1.000000  0.001304      NaN -0.001388    0.007599   \n",
       "mnth        0.840437  0.001304  1.000000      NaN  0.003533    0.002860   \n",
       "holiday          NaN       NaN       NaN      NaN       NaN         NaN   \n",
       "weekday    -0.005433 -0.001388  0.003533      NaN  1.000000    0.014905   \n",
       "workingday  0.007843  0.007599  0.002860      NaN  0.014905    1.000000   \n",
       "weathersit  0.020594 -0.040053  0.045158      NaN  0.034451    0.051341   \n",
       "temp        0.326296  0.056605  0.218620      NaN  0.001777    0.040068   \n",
       "atemp       0.333270  0.055656  0.224812      NaN -0.006580    0.037123   \n",
       "hum         0.176159 -0.121518  0.200747      NaN -0.042619    0.018048   \n",
       "windspeed  -0.196127 -0.024964 -0.182652      NaN  0.012292   -0.006540   \n",
       "count       0.396186  0.583527  0.283133      NaN  0.070244    0.040050   \n",
       "\n",
       "            weathersit      temp     atemp       hum  windspeed     count  \n",
       "season        0.020594  0.326296  0.333270  0.176159  -0.196127  0.396186  \n",
       "yr           -0.040053  0.056605  0.055656 -0.121518  -0.024964  0.583527  \n",
       "mnth          0.045158  0.218620  0.224812  0.200747  -0.182652  0.283133  \n",
       "holiday            NaN       NaN       NaN       NaN        NaN       NaN  \n",
       "weekday       0.034451  0.001777 -0.006580 -0.042619   0.012292  0.070244  \n",
       "workingday    0.051341  0.040068  0.037123  0.018048  -0.006540  0.040050  \n",
       "weathersit    1.000000 -0.126561 -0.128650  0.630695   0.061170 -0.307263  \n",
       "temp         -0.126561  1.000000  0.991518  0.103624  -0.130387  0.619427  \n",
       "atemp        -0.128650  0.991518  1.000000  0.115488  -0.156090  0.622290  \n",
       "hum           0.630695  0.103624  0.115488  1.000000  -0.196551 -0.151820  \n",
       "windspeed     0.061170 -0.130387 -0.156090 -0.196551   1.000000 -0.211559  \n",
       "count        -0.307263  0.619427  0.622290 -0.151820  -0.211559  1.000000  "
      ]
     },
     "execution_count": 121,
     "metadata": {},
     "output_type": "execute_result"
    }
   ],
   "source": [
    "# correlation matrix\n",
    "corr"
   ]
  },
  {
   "cell_type": "markdown",
   "metadata": {},
   "source": [
    "##### we can clearly see that some independent variables are highly correlated to each other\n",
    "* lets calculate the vif and remove those variables in order to lessen the complexity of the model."
   ]
  },
  {
   "cell_type": "code",
   "execution_count": 122,
   "metadata": {
    "scrolled": true
   },
   "outputs": [
    {
     "name": "stderr",
     "output_type": "stream",
     "text": [
      "C:\\Users\\MAYANK\\Anaconda3\\lib\\site-packages\\numpy\\core\\fromnumeric.py:2542: FutureWarning: Method .ptp is deprecated and will be removed in a future version. Use numpy.ptp instead.\n",
      "  return ptp(axis=axis, out=out, **kwargs)\n",
      "C:\\Users\\MAYANK\\AppData\\Roaming\\Python\\Python37\\site-packages\\statsmodels\\regression\\linear_model.py:1636: RuntimeWarning: invalid value encountered in double_scalars\n",
      "  return 1 - self.ssr/self.centered_tss\n"
     ]
    },
    {
     "data": {
      "text/html": [
       "<div>\n",
       "<style scoped>\n",
       "    .dataframe tbody tr th:only-of-type {\n",
       "        vertical-align: middle;\n",
       "    }\n",
       "\n",
       "    .dataframe tbody tr th {\n",
       "        vertical-align: top;\n",
       "    }\n",
       "\n",
       "    .dataframe thead th {\n",
       "        text-align: right;\n",
       "    }\n",
       "</style>\n",
       "<table border=\"1\" class=\"dataframe\">\n",
       "  <thead>\n",
       "    <tr style=\"text-align: right;\">\n",
       "      <th></th>\n",
       "      <th>season</th>\n",
       "      <th>yr</th>\n",
       "      <th>mnth</th>\n",
       "      <th>holiday</th>\n",
       "      <th>weekday</th>\n",
       "      <th>workingday</th>\n",
       "      <th>weathersit</th>\n",
       "      <th>temp</th>\n",
       "      <th>atemp</th>\n",
       "      <th>hum</th>\n",
       "      <th>windspeed</th>\n",
       "    </tr>\n",
       "  </thead>\n",
       "  <tbody>\n",
       "    <tr>\n",
       "      <th>vif</th>\n",
       "      <td>3.694233</td>\n",
       "      <td>1.028766</td>\n",
       "      <td>3.495677</td>\n",
       "      <td>NaN</td>\n",
       "      <td>1.012839</td>\n",
       "      <td>1.006399</td>\n",
       "      <td>1.909454</td>\n",
       "      <td>61.951493</td>\n",
       "      <td>62.823651</td>\n",
       "      <td>2.035231</td>\n",
       "      <td>1.166658</td>\n",
       "    </tr>\n",
       "  </tbody>\n",
       "</table>\n",
       "</div>"
      ],
      "text/plain": [
       "       season        yr      mnth  holiday   weekday  workingday  weathersit  \\\n",
       "vif  3.694233  1.028766  3.495677      NaN  1.012839    1.006399    1.909454   \n",
       "\n",
       "          temp      atemp       hum  windspeed  \n",
       "vif  61.951493  62.823651  2.035231   1.166658  "
      ]
     },
     "execution_count": 122,
     "metadata": {},
     "output_type": "execute_result"
    }
   ],
   "source": [
    "from statsmodels.stats.outliers_influence import variance_inflation_factor\n",
    "from statsmodels.tools.tools import add_constant\n",
    "fvif = df2.iloc[:,0:11]\n",
    "X = add_constant(fvif)\n",
    "\n",
    "vif = [variance_inflation_factor(X.values, i) for i in range(X.shape[1])]\n",
    "pd.DataFrame({'vif': vif[1:]}, index=fvif.columns).T"
   ]
  },
  {
   "cell_type": "markdown",
   "metadata": {},
   "source": [
    "#### Since atemp has a High VIF score we will remove it from our data set."
   ]
  },
  {
   "cell_type": "code",
   "execution_count": 123,
   "metadata": {},
   "outputs": [
    {
     "data": {
      "text/html": [
       "<div>\n",
       "<style scoped>\n",
       "    .dataframe tbody tr th:only-of-type {\n",
       "        vertical-align: middle;\n",
       "    }\n",
       "\n",
       "    .dataframe tbody tr th {\n",
       "        vertical-align: top;\n",
       "    }\n",
       "\n",
       "    .dataframe thead th {\n",
       "        text-align: right;\n",
       "    }\n",
       "</style>\n",
       "<table border=\"1\" class=\"dataframe\">\n",
       "  <thead>\n",
       "    <tr style=\"text-align: right;\">\n",
       "      <th></th>\n",
       "      <th>season</th>\n",
       "      <th>yr</th>\n",
       "      <th>mnth</th>\n",
       "      <th>holiday</th>\n",
       "      <th>weekday</th>\n",
       "      <th>workingday</th>\n",
       "      <th>weathersit</th>\n",
       "      <th>temp</th>\n",
       "      <th>hum</th>\n",
       "      <th>windspeed</th>\n",
       "      <th>count</th>\n",
       "    </tr>\n",
       "  </thead>\n",
       "  <tbody>\n",
       "    <tr>\n",
       "      <th>0</th>\n",
       "      <td>1</td>\n",
       "      <td>0</td>\n",
       "      <td>1</td>\n",
       "      <td>0</td>\n",
       "      <td>6</td>\n",
       "      <td>0</td>\n",
       "      <td>2</td>\n",
       "      <td>0.344167</td>\n",
       "      <td>0.805833</td>\n",
       "      <td>0.160446</td>\n",
       "      <td>985</td>\n",
       "    </tr>\n",
       "    <tr>\n",
       "      <th>1</th>\n",
       "      <td>1</td>\n",
       "      <td>0</td>\n",
       "      <td>1</td>\n",
       "      <td>0</td>\n",
       "      <td>0</td>\n",
       "      <td>0</td>\n",
       "      <td>2</td>\n",
       "      <td>0.363478</td>\n",
       "      <td>0.696087</td>\n",
       "      <td>0.248539</td>\n",
       "      <td>801</td>\n",
       "    </tr>\n",
       "    <tr>\n",
       "      <th>2</th>\n",
       "      <td>1</td>\n",
       "      <td>0</td>\n",
       "      <td>1</td>\n",
       "      <td>0</td>\n",
       "      <td>1</td>\n",
       "      <td>1</td>\n",
       "      <td>1</td>\n",
       "      <td>0.196364</td>\n",
       "      <td>0.437273</td>\n",
       "      <td>0.248309</td>\n",
       "      <td>1349</td>\n",
       "    </tr>\n",
       "    <tr>\n",
       "      <th>3</th>\n",
       "      <td>1</td>\n",
       "      <td>0</td>\n",
       "      <td>1</td>\n",
       "      <td>0</td>\n",
       "      <td>2</td>\n",
       "      <td>1</td>\n",
       "      <td>1</td>\n",
       "      <td>0.200000</td>\n",
       "      <td>0.590435</td>\n",
       "      <td>0.160296</td>\n",
       "      <td>1562</td>\n",
       "    </tr>\n",
       "    <tr>\n",
       "      <th>4</th>\n",
       "      <td>1</td>\n",
       "      <td>0</td>\n",
       "      <td>1</td>\n",
       "      <td>0</td>\n",
       "      <td>3</td>\n",
       "      <td>1</td>\n",
       "      <td>1</td>\n",
       "      <td>0.226957</td>\n",
       "      <td>0.436957</td>\n",
       "      <td>0.186900</td>\n",
       "      <td>1600</td>\n",
       "    </tr>\n",
       "    <tr>\n",
       "      <th>...</th>\n",
       "      <td>...</td>\n",
       "      <td>...</td>\n",
       "      <td>...</td>\n",
       "      <td>...</td>\n",
       "      <td>...</td>\n",
       "      <td>...</td>\n",
       "      <td>...</td>\n",
       "      <td>...</td>\n",
       "      <td>...</td>\n",
       "      <td>...</td>\n",
       "      <td>...</td>\n",
       "    </tr>\n",
       "    <tr>\n",
       "      <th>691</th>\n",
       "      <td>1</td>\n",
       "      <td>1</td>\n",
       "      <td>12</td>\n",
       "      <td>0</td>\n",
       "      <td>4</td>\n",
       "      <td>1</td>\n",
       "      <td>2</td>\n",
       "      <td>0.254167</td>\n",
       "      <td>0.652917</td>\n",
       "      <td>0.350133</td>\n",
       "      <td>2114</td>\n",
       "    </tr>\n",
       "    <tr>\n",
       "      <th>692</th>\n",
       "      <td>1</td>\n",
       "      <td>1</td>\n",
       "      <td>12</td>\n",
       "      <td>0</td>\n",
       "      <td>5</td>\n",
       "      <td>1</td>\n",
       "      <td>2</td>\n",
       "      <td>0.253333</td>\n",
       "      <td>0.590000</td>\n",
       "      <td>0.155471</td>\n",
       "      <td>3095</td>\n",
       "    </tr>\n",
       "    <tr>\n",
       "      <th>693</th>\n",
       "      <td>1</td>\n",
       "      <td>1</td>\n",
       "      <td>12</td>\n",
       "      <td>0</td>\n",
       "      <td>6</td>\n",
       "      <td>0</td>\n",
       "      <td>2</td>\n",
       "      <td>0.253333</td>\n",
       "      <td>0.752917</td>\n",
       "      <td>0.124383</td>\n",
       "      <td>1341</td>\n",
       "    </tr>\n",
       "    <tr>\n",
       "      <th>694</th>\n",
       "      <td>1</td>\n",
       "      <td>1</td>\n",
       "      <td>12</td>\n",
       "      <td>0</td>\n",
       "      <td>0</td>\n",
       "      <td>0</td>\n",
       "      <td>1</td>\n",
       "      <td>0.255833</td>\n",
       "      <td>0.483333</td>\n",
       "      <td>0.350754</td>\n",
       "      <td>1796</td>\n",
       "    </tr>\n",
       "    <tr>\n",
       "      <th>695</th>\n",
       "      <td>1</td>\n",
       "      <td>1</td>\n",
       "      <td>12</td>\n",
       "      <td>0</td>\n",
       "      <td>1</td>\n",
       "      <td>1</td>\n",
       "      <td>2</td>\n",
       "      <td>0.215833</td>\n",
       "      <td>0.577500</td>\n",
       "      <td>0.154846</td>\n",
       "      <td>2729</td>\n",
       "    </tr>\n",
       "  </tbody>\n",
       "</table>\n",
       "<p>696 rows × 11 columns</p>\n",
       "</div>"
      ],
      "text/plain": [
       "     season  yr  mnth  holiday  weekday  workingday  weathersit      temp  \\\n",
       "0         1   0     1        0        6           0           2  0.344167   \n",
       "1         1   0     1        0        0           0           2  0.363478   \n",
       "2         1   0     1        0        1           1           1  0.196364   \n",
       "3         1   0     1        0        2           1           1  0.200000   \n",
       "4         1   0     1        0        3           1           1  0.226957   \n",
       "..      ...  ..   ...      ...      ...         ...         ...       ...   \n",
       "691       1   1    12        0        4           1           2  0.254167   \n",
       "692       1   1    12        0        5           1           2  0.253333   \n",
       "693       1   1    12        0        6           0           2  0.253333   \n",
       "694       1   1    12        0        0           0           1  0.255833   \n",
       "695       1   1    12        0        1           1           2  0.215833   \n",
       "\n",
       "          hum  windspeed  count  \n",
       "0    0.805833   0.160446    985  \n",
       "1    0.696087   0.248539    801  \n",
       "2    0.437273   0.248309   1349  \n",
       "3    0.590435   0.160296   1562  \n",
       "4    0.436957   0.186900   1600  \n",
       "..        ...        ...    ...  \n",
       "691  0.652917   0.350133   2114  \n",
       "692  0.590000   0.155471   3095  \n",
       "693  0.752917   0.124383   1341  \n",
       "694  0.483333   0.350754   1796  \n",
       "695  0.577500   0.154846   2729  \n",
       "\n",
       "[696 rows x 11 columns]"
      ]
     },
     "execution_count": 123,
     "metadata": {},
     "output_type": "execute_result"
    }
   ],
   "source": [
    "cc =['season', 'yr', 'mnth', 'holiday', 'weekday', 'workingday', 'weathersit', 'temp', 'hum', 'windspeed', 'count']\n",
    "reg = df2.loc[:,cc]\n",
    "reg"
   ]
  },
  {
   "cell_type": "code",
   "execution_count": 124,
   "metadata": {
    "scrolled": true
   },
   "outputs": [
    {
     "data": {
      "text/html": [
       "<table class=\"simpletable\">\n",
       "<caption>OLS Regression Results</caption>\n",
       "<tr>\n",
       "  <th>Dep. Variable:</th>          <td>count</td>      <th>  R-squared (uncentered):</th>      <td>   0.966</td>\n",
       "</tr>\n",
       "<tr>\n",
       "  <th>Model:</th>                   <td>OLS</td>       <th>  Adj. R-squared (uncentered):</th> <td>   0.965</td>\n",
       "</tr>\n",
       "<tr>\n",
       "  <th>Method:</th>             <td>Least Squares</td>  <th>  F-statistic:       </th>          <td>   1711.</td>\n",
       "</tr>\n",
       "<tr>\n",
       "  <th>Date:</th>             <td>Tue, 17 Mar 2020</td> <th>  Prob (F-statistic):</th>           <td>  0.00</td> \n",
       "</tr>\n",
       "<tr>\n",
       "  <th>Time:</th>                 <td>23:56:26</td>     <th>  Log-Likelihood:    </th>          <td> -4583.8</td>\n",
       "</tr>\n",
       "<tr>\n",
       "  <th>No. Observations:</th>      <td>   556</td>      <th>  AIC:               </th>          <td>   9186.</td>\n",
       "</tr>\n",
       "<tr>\n",
       "  <th>Df Residuals:</th>          <td>   547</td>      <th>  BIC:               </th>          <td>   9224.</td>\n",
       "</tr>\n",
       "<tr>\n",
       "  <th>Df Model:</th>              <td>     9</td>      <th>                     </th>              <td> </td>   \n",
       "</tr>\n",
       "<tr>\n",
       "  <th>Covariance Type:</th>      <td>nonrobust</td>    <th>                     </th>              <td> </td>   \n",
       "</tr>\n",
       "</table>\n",
       "<table class=\"simpletable\">\n",
       "<tr>\n",
       "       <td></td>         <th>coef</th>     <th>std err</th>      <th>t</th>      <th>P>|t|</th>  <th>[0.025</th>    <th>0.975]</th>  \n",
       "</tr>\n",
       "<tr>\n",
       "  <th>season</th>     <td>  543.4133</td> <td>   66.152</td> <td>    8.215</td> <td> 0.000</td> <td>  413.470</td> <td>  673.357</td>\n",
       "</tr>\n",
       "<tr>\n",
       "  <th>yr</th>         <td> 2103.6437</td> <td>   77.960</td> <td>   26.984</td> <td> 0.000</td> <td> 1950.507</td> <td> 2256.781</td>\n",
       "</tr>\n",
       "<tr>\n",
       "  <th>mnth</th>       <td>  -33.7111</td> <td>   20.724</td> <td>   -1.627</td> <td> 0.104</td> <td>  -74.419</td> <td>    6.997</td>\n",
       "</tr>\n",
       "<tr>\n",
       "  <th>holiday</th>    <td> 6.734e-13</td> <td> 7.01e-14</td> <td>    9.601</td> <td> 0.000</td> <td> 5.36e-13</td> <td> 8.11e-13</td>\n",
       "</tr>\n",
       "<tr>\n",
       "  <th>weekday</th>    <td>  102.2916</td> <td>   19.148</td> <td>    5.342</td> <td> 0.000</td> <td>   64.679</td> <td>  139.904</td>\n",
       "</tr>\n",
       "<tr>\n",
       "  <th>workingday</th> <td>  155.5450</td> <td>   85.242</td> <td>    1.825</td> <td> 0.069</td> <td>  -11.897</td> <td>  322.987</td>\n",
       "</tr>\n",
       "<tr>\n",
       "  <th>weathersit</th> <td> -641.0884</td> <td>   98.456</td> <td>   -6.511</td> <td> 0.000</td> <td> -834.487</td> <td> -447.690</td>\n",
       "</tr>\n",
       "<tr>\n",
       "  <th>temp</th>       <td> 5313.2062</td> <td>  226.142</td> <td>   23.495</td> <td> 0.000</td> <td> 4868.994</td> <td> 5757.418</td>\n",
       "</tr>\n",
       "<tr>\n",
       "  <th>hum</th>        <td>  339.6630</td> <td>  315.355</td> <td>    1.077</td> <td> 0.282</td> <td> -279.792</td> <td>  959.118</td>\n",
       "</tr>\n",
       "<tr>\n",
       "  <th>windspeed</th>  <td> -306.2260</td> <td>  484.720</td> <td>   -0.632</td> <td> 0.528</td> <td>-1258.367</td> <td>  645.915</td>\n",
       "</tr>\n",
       "</table>\n",
       "<table class=\"simpletable\">\n",
       "<tr>\n",
       "  <th>Omnibus:</th>       <td>79.718</td> <th>  Durbin-Watson:     </th> <td>   2.009</td>\n",
       "</tr>\n",
       "<tr>\n",
       "  <th>Prob(Omnibus):</th> <td> 0.000</td> <th>  Jarque-Bera (JB):  </th> <td> 177.073</td>\n",
       "</tr>\n",
       "<tr>\n",
       "  <th>Skew:</th>          <td>-0.779</td> <th>  Prob(JB):          </th> <td>3.54e-39</td>\n",
       "</tr>\n",
       "<tr>\n",
       "  <th>Kurtosis:</th>      <td> 5.283</td> <th>  Cond. No.          </th> <td>4.22e+18</td>\n",
       "</tr>\n",
       "</table><br/><br/>Warnings:<br/>[1] Standard Errors assume that the covariance matrix of the errors is correctly specified.<br/>[2] The smallest eigenvalue is 2.31e-33. This might indicate that there are<br/>strong multicollinearity problems or that the design matrix is singular."
      ],
      "text/plain": [
       "<class 'statsmodels.iolib.summary.Summary'>\n",
       "\"\"\"\n",
       "                                 OLS Regression Results                                \n",
       "=======================================================================================\n",
       "Dep. Variable:                  count   R-squared (uncentered):                   0.966\n",
       "Model:                            OLS   Adj. R-squared (uncentered):              0.965\n",
       "Method:                 Least Squares   F-statistic:                              1711.\n",
       "Date:                Tue, 17 Mar 2020   Prob (F-statistic):                        0.00\n",
       "Time:                        23:56:26   Log-Likelihood:                         -4583.8\n",
       "No. Observations:                 556   AIC:                                      9186.\n",
       "Df Residuals:                     547   BIC:                                      9224.\n",
       "Df Model:                           9                                                  \n",
       "Covariance Type:            nonrobust                                                  \n",
       "==============================================================================\n",
       "                 coef    std err          t      P>|t|      [0.025      0.975]\n",
       "------------------------------------------------------------------------------\n",
       "season       543.4133     66.152      8.215      0.000     413.470     673.357\n",
       "yr          2103.6437     77.960     26.984      0.000    1950.507    2256.781\n",
       "mnth         -33.7111     20.724     -1.627      0.104     -74.419       6.997\n",
       "holiday     6.734e-13   7.01e-14      9.601      0.000    5.36e-13    8.11e-13\n",
       "weekday      102.2916     19.148      5.342      0.000      64.679     139.904\n",
       "workingday   155.5450     85.242      1.825      0.069     -11.897     322.987\n",
       "weathersit  -641.0884     98.456     -6.511      0.000    -834.487    -447.690\n",
       "temp        5313.2062    226.142     23.495      0.000    4868.994    5757.418\n",
       "hum          339.6630    315.355      1.077      0.282    -279.792     959.118\n",
       "windspeed   -306.2260    484.720     -0.632      0.528   -1258.367     645.915\n",
       "==============================================================================\n",
       "Omnibus:                       79.718   Durbin-Watson:                   2.009\n",
       "Prob(Omnibus):                  0.000   Jarque-Bera (JB):              177.073\n",
       "Skew:                          -0.779   Prob(JB):                     3.54e-39\n",
       "Kurtosis:                       5.283   Cond. No.                     4.22e+18\n",
       "==============================================================================\n",
       "\n",
       "Warnings:\n",
       "[1] Standard Errors assume that the covariance matrix of the errors is correctly specified.\n",
       "[2] The smallest eigenvalue is 2.31e-33. This might indicate that there are\n",
       "strong multicollinearity problems or that the design matrix is singular.\n",
       "\"\"\""
      ]
     },
     "execution_count": 124,
     "metadata": {},
     "output_type": "execute_result"
    }
   ],
   "source": [
    "train, test = train_test_split(reg, test_size=0.2)\n",
    "model2 = sm.OLS(train.iloc[:,10], train.iloc[:,0:10]).fit()\n",
    "model2.summary()"
   ]
  },
  {
   "cell_type": "markdown",
   "metadata": {},
   "source": [
    "##### Since p-value of variables [\"hum\",\"windspeed\",\"mnth\"] \n",
    "* are statistically insignificant for our model\n",
    "* because there p value is greater than alpha =0.05.\n",
    "* so we will remove them from our data frame"
   ]
  },
  {
   "cell_type": "code",
   "execution_count": 125,
   "metadata": {},
   "outputs": [
    {
     "data": {
      "text/html": [
       "<div>\n",
       "<style scoped>\n",
       "    .dataframe tbody tr th:only-of-type {\n",
       "        vertical-align: middle;\n",
       "    }\n",
       "\n",
       "    .dataframe tbody tr th {\n",
       "        vertical-align: top;\n",
       "    }\n",
       "\n",
       "    .dataframe thead th {\n",
       "        text-align: right;\n",
       "    }\n",
       "</style>\n",
       "<table border=\"1\" class=\"dataframe\">\n",
       "  <thead>\n",
       "    <tr style=\"text-align: right;\">\n",
       "      <th></th>\n",
       "      <th>season</th>\n",
       "      <th>yr</th>\n",
       "      <th>holiday</th>\n",
       "      <th>weekday</th>\n",
       "      <th>workingday</th>\n",
       "      <th>weathersit</th>\n",
       "      <th>temp</th>\n",
       "    </tr>\n",
       "  </thead>\n",
       "  <tbody>\n",
       "    <tr>\n",
       "      <th>0</th>\n",
       "      <td>1</td>\n",
       "      <td>0</td>\n",
       "      <td>0</td>\n",
       "      <td>6</td>\n",
       "      <td>0</td>\n",
       "      <td>2</td>\n",
       "      <td>0.344167</td>\n",
       "    </tr>\n",
       "    <tr>\n",
       "      <th>1</th>\n",
       "      <td>1</td>\n",
       "      <td>0</td>\n",
       "      <td>0</td>\n",
       "      <td>0</td>\n",
       "      <td>0</td>\n",
       "      <td>2</td>\n",
       "      <td>0.363478</td>\n",
       "    </tr>\n",
       "    <tr>\n",
       "      <th>2</th>\n",
       "      <td>1</td>\n",
       "      <td>0</td>\n",
       "      <td>0</td>\n",
       "      <td>1</td>\n",
       "      <td>1</td>\n",
       "      <td>1</td>\n",
       "      <td>0.196364</td>\n",
       "    </tr>\n",
       "    <tr>\n",
       "      <th>3</th>\n",
       "      <td>1</td>\n",
       "      <td>0</td>\n",
       "      <td>0</td>\n",
       "      <td>2</td>\n",
       "      <td>1</td>\n",
       "      <td>1</td>\n",
       "      <td>0.200000</td>\n",
       "    </tr>\n",
       "    <tr>\n",
       "      <th>4</th>\n",
       "      <td>1</td>\n",
       "      <td>0</td>\n",
       "      <td>0</td>\n",
       "      <td>3</td>\n",
       "      <td>1</td>\n",
       "      <td>1</td>\n",
       "      <td>0.226957</td>\n",
       "    </tr>\n",
       "    <tr>\n",
       "      <th>...</th>\n",
       "      <td>...</td>\n",
       "      <td>...</td>\n",
       "      <td>...</td>\n",
       "      <td>...</td>\n",
       "      <td>...</td>\n",
       "      <td>...</td>\n",
       "      <td>...</td>\n",
       "    </tr>\n",
       "    <tr>\n",
       "      <th>691</th>\n",
       "      <td>1</td>\n",
       "      <td>1</td>\n",
       "      <td>0</td>\n",
       "      <td>4</td>\n",
       "      <td>1</td>\n",
       "      <td>2</td>\n",
       "      <td>0.254167</td>\n",
       "    </tr>\n",
       "    <tr>\n",
       "      <th>692</th>\n",
       "      <td>1</td>\n",
       "      <td>1</td>\n",
       "      <td>0</td>\n",
       "      <td>5</td>\n",
       "      <td>1</td>\n",
       "      <td>2</td>\n",
       "      <td>0.253333</td>\n",
       "    </tr>\n",
       "    <tr>\n",
       "      <th>693</th>\n",
       "      <td>1</td>\n",
       "      <td>1</td>\n",
       "      <td>0</td>\n",
       "      <td>6</td>\n",
       "      <td>0</td>\n",
       "      <td>2</td>\n",
       "      <td>0.253333</td>\n",
       "    </tr>\n",
       "    <tr>\n",
       "      <th>694</th>\n",
       "      <td>1</td>\n",
       "      <td>1</td>\n",
       "      <td>0</td>\n",
       "      <td>0</td>\n",
       "      <td>0</td>\n",
       "      <td>1</td>\n",
       "      <td>0.255833</td>\n",
       "    </tr>\n",
       "    <tr>\n",
       "      <th>695</th>\n",
       "      <td>1</td>\n",
       "      <td>1</td>\n",
       "      <td>0</td>\n",
       "      <td>1</td>\n",
       "      <td>1</td>\n",
       "      <td>2</td>\n",
       "      <td>0.215833</td>\n",
       "    </tr>\n",
       "  </tbody>\n",
       "</table>\n",
       "<p>696 rows × 7 columns</p>\n",
       "</div>"
      ],
      "text/plain": [
       "     season  yr  holiday  weekday  workingday  weathersit      temp\n",
       "0         1   0        0        6           0           2  0.344167\n",
       "1         1   0        0        0           0           2  0.363478\n",
       "2         1   0        0        1           1           1  0.196364\n",
       "3         1   0        0        2           1           1  0.200000\n",
       "4         1   0        0        3           1           1  0.226957\n",
       "..      ...  ..      ...      ...         ...         ...       ...\n",
       "691       1   1        0        4           1           2  0.254167\n",
       "692       1   1        0        5           1           2  0.253333\n",
       "693       1   1        0        6           0           2  0.253333\n",
       "694       1   1        0        0           0           1  0.255833\n",
       "695       1   1        0        1           1           2  0.215833\n",
       "\n",
       "[696 rows x 7 columns]"
      ]
     },
     "execution_count": 125,
     "metadata": {},
     "output_type": "execute_result"
    }
   ],
   "source": [
    "rm =  [\"hum\",\"windspeed\",\"mnth\"] \n",
    "reg2=reg.drop(columns=rm)\n",
    "reg2.iloc[:,0:7]"
   ]
  },
  {
   "cell_type": "code",
   "execution_count": 126,
   "metadata": {},
   "outputs": [],
   "source": [
    "testp = model2.predict(test.iloc[:,0:10])\n"
   ]
  },
  {
   "cell_type": "code",
   "execution_count": 127,
   "metadata": {
    "scrolled": true
   },
   "outputs": [
    {
     "data": {
      "text/plain": [
       "20.086695127377098"
      ]
     },
     "execution_count": 127,
     "metadata": {},
     "output_type": "execute_result"
    }
   ],
   "source": [
    "MAPE(test.iloc[:,10],testp)"
   ]
  },
  {
   "cell_type": "code",
   "execution_count": 128,
   "metadata": {},
   "outputs": [
    {
     "data": {
      "text/plain": [
       "(0.8418730942102366, 792.3193179394322)"
      ]
     },
     "execution_count": 128,
     "metadata": {},
     "output_type": "execute_result"
    }
   ],
   "source": [
    "r2_score(test.iloc[:,10],testp),math.sqrt(mean_squared_error(test.iloc[:,10],testp))"
   ]
  },
  {
   "cell_type": "markdown",
   "metadata": {},
   "source": [
    "### 4. Detecting Hetroscedaticity\n",
    "* Using goldfeld quandt test"
   ]
  },
  {
   "cell_type": "code",
   "execution_count": 129,
   "metadata": {},
   "outputs": [
    {
     "data": {
      "text/html": [
       "<div>\n",
       "<style scoped>\n",
       "    .dataframe tbody tr th:only-of-type {\n",
       "        vertical-align: middle;\n",
       "    }\n",
       "\n",
       "    .dataframe tbody tr th {\n",
       "        vertical-align: top;\n",
       "    }\n",
       "\n",
       "    .dataframe thead th {\n",
       "        text-align: right;\n",
       "    }\n",
       "</style>\n",
       "<table border=\"1\" class=\"dataframe\">\n",
       "  <thead>\n",
       "    <tr style=\"text-align: right;\">\n",
       "      <th></th>\n",
       "      <th>value</th>\n",
       "    </tr>\n",
       "  </thead>\n",
       "  <tbody>\n",
       "    <tr>\n",
       "      <th>F statistic</th>\n",
       "      <td>1.406966</td>\n",
       "    </tr>\n",
       "    <tr>\n",
       "      <th>p-value</th>\n",
       "      <td>0.002630</td>\n",
       "    </tr>\n",
       "  </tbody>\n",
       "</table>\n",
       "</div>"
      ],
      "text/plain": [
       "                value\n",
       "F statistic  1.406966\n",
       "p-value      0.002630"
      ]
     },
     "execution_count": 129,
     "metadata": {},
     "output_type": "execute_result"
    }
   ],
   "source": [
    "gq_test = pd.DataFrame(sms.het_goldfeldquandt(model2.resid, model2.model.exog)[:-1],\n",
    "                           columns=['value'],\n",
    "                           index=['F statistic', 'p-value'])\n",
    "gq_test"
   ]
  },
  {
   "cell_type": "markdown",
   "metadata": {},
   "source": [
    "##### Since p-value is greater than the alpha = 0.05, we can asume that data is homoscedatic."
   ]
  },
  {
   "cell_type": "markdown",
   "metadata": {},
   "source": [
    "### Building a final model after satisfying all the assumption."
   ]
  },
  {
   "cell_type": "code",
   "execution_count": 130,
   "metadata": {
    "scrolled": false
   },
   "outputs": [
    {
     "data": {
      "text/html": [
       "<table class=\"simpletable\">\n",
       "<caption>OLS Regression Results</caption>\n",
       "<tr>\n",
       "  <th>Dep. Variable:</th>          <td>count</td>      <th>  R-squared (uncentered):</th>      <td>   0.968</td>\n",
       "</tr>\n",
       "<tr>\n",
       "  <th>Model:</th>                   <td>OLS</td>       <th>  Adj. R-squared (uncentered):</th> <td>   0.968</td>\n",
       "</tr>\n",
       "<tr>\n",
       "  <th>Method:</th>             <td>Least Squares</td>  <th>  F-statistic:       </th>          <td>   2803.</td>\n",
       "</tr>\n",
       "<tr>\n",
       "  <th>Date:</th>             <td>Tue, 17 Mar 2020</td> <th>  Prob (F-statistic):</th>           <td>  0.00</td> \n",
       "</tr>\n",
       "<tr>\n",
       "  <th>Time:</th>                 <td>23:56:43</td>     <th>  Log-Likelihood:    </th>          <td> -4563.8</td>\n",
       "</tr>\n",
       "<tr>\n",
       "  <th>No. Observations:</th>      <td>   556</td>      <th>  AIC:               </th>          <td>   9140.</td>\n",
       "</tr>\n",
       "<tr>\n",
       "  <th>Df Residuals:</th>          <td>   550</td>      <th>  BIC:               </th>          <td>   9166.</td>\n",
       "</tr>\n",
       "<tr>\n",
       "  <th>Df Model:</th>              <td>     6</td>      <th>                     </th>              <td> </td>   \n",
       "</tr>\n",
       "<tr>\n",
       "  <th>Covariance Type:</th>      <td>nonrobust</td>    <th>                     </th>              <td> </td>   \n",
       "</tr>\n",
       "</table>\n",
       "<table class=\"simpletable\">\n",
       "<tr>\n",
       "       <td></td>         <th>coef</th>     <th>std err</th>      <th>t</th>      <th>P>|t|</th>  <th>[0.025</th>    <th>0.975]</th>  \n",
       "</tr>\n",
       "<tr>\n",
       "  <th>season</th>     <td>  476.7974</td> <td>   35.730</td> <td>   13.344</td> <td> 0.000</td> <td>  406.613</td> <td>  546.982</td>\n",
       "</tr>\n",
       "<tr>\n",
       "  <th>yr</th>         <td> 2226.2199</td> <td>   74.137</td> <td>   30.028</td> <td> 0.000</td> <td> 2080.593</td> <td> 2371.847</td>\n",
       "</tr>\n",
       "<tr>\n",
       "  <th>holiday</th>    <td>-3.795e-12</td> <td> 1.66e-13</td> <td>  -22.903</td> <td> 0.000</td> <td>-4.12e-12</td> <td>-3.47e-12</td>\n",
       "</tr>\n",
       "<tr>\n",
       "  <th>weekday</th>    <td>  103.7959</td> <td>   17.932</td> <td>    5.788</td> <td> 0.000</td> <td>   68.571</td> <td>  139.020</td>\n",
       "</tr>\n",
       "<tr>\n",
       "  <th>workingday</th> <td>  159.5745</td> <td>   79.833</td> <td>    1.999</td> <td> 0.046</td> <td>    2.760</td> <td>  316.389</td>\n",
       "</tr>\n",
       "<tr>\n",
       "  <th>weathersit</th> <td> -640.2287</td> <td>   58.573</td> <td>  -10.930</td> <td> 0.000</td> <td> -755.283</td> <td> -525.175</td>\n",
       "</tr>\n",
       "<tr>\n",
       "  <th>temp</th>       <td> 5363.2767</td> <td>  193.690</td> <td>   27.690</td> <td> 0.000</td> <td> 4982.814</td> <td> 5743.739</td>\n",
       "</tr>\n",
       "</table>\n",
       "<table class=\"simpletable\">\n",
       "<tr>\n",
       "  <th>Omnibus:</th>       <td>61.451</td> <th>  Durbin-Watson:     </th> <td>   2.017</td>\n",
       "</tr>\n",
       "<tr>\n",
       "  <th>Prob(Omnibus):</th> <td> 0.000</td> <th>  Jarque-Bera (JB):  </th> <td> 108.647</td>\n",
       "</tr>\n",
       "<tr>\n",
       "  <th>Skew:</th>          <td>-0.692</td> <th>  Prob(JB):          </th> <td>2.56e-24</td>\n",
       "</tr>\n",
       "<tr>\n",
       "  <th>Kurtosis:</th>      <td> 4.666</td> <th>  Cond. No.          </th> <td>2.51e+17</td>\n",
       "</tr>\n",
       "</table><br/><br/>Warnings:<br/>[1] Standard Errors assume that the covariance matrix of the errors is correctly specified.<br/>[2] The smallest eigenvalue is 1.87e-31. This might indicate that there are<br/>strong multicollinearity problems or that the design matrix is singular."
      ],
      "text/plain": [
       "<class 'statsmodels.iolib.summary.Summary'>\n",
       "\"\"\"\n",
       "                                 OLS Regression Results                                \n",
       "=======================================================================================\n",
       "Dep. Variable:                  count   R-squared (uncentered):                   0.968\n",
       "Model:                            OLS   Adj. R-squared (uncentered):              0.968\n",
       "Method:                 Least Squares   F-statistic:                              2803.\n",
       "Date:                Tue, 17 Mar 2020   Prob (F-statistic):                        0.00\n",
       "Time:                        23:56:43   Log-Likelihood:                         -4563.8\n",
       "No. Observations:                 556   AIC:                                      9140.\n",
       "Df Residuals:                     550   BIC:                                      9166.\n",
       "Df Model:                           6                                                  \n",
       "Covariance Type:            nonrobust                                                  \n",
       "==============================================================================\n",
       "                 coef    std err          t      P>|t|      [0.025      0.975]\n",
       "------------------------------------------------------------------------------\n",
       "season       476.7974     35.730     13.344      0.000     406.613     546.982\n",
       "yr          2226.2199     74.137     30.028      0.000    2080.593    2371.847\n",
       "holiday    -3.795e-12   1.66e-13    -22.903      0.000   -4.12e-12   -3.47e-12\n",
       "weekday      103.7959     17.932      5.788      0.000      68.571     139.020\n",
       "workingday   159.5745     79.833      1.999      0.046       2.760     316.389\n",
       "weathersit  -640.2287     58.573    -10.930      0.000    -755.283    -525.175\n",
       "temp        5363.2767    193.690     27.690      0.000    4982.814    5743.739\n",
       "==============================================================================\n",
       "Omnibus:                       61.451   Durbin-Watson:                   2.017\n",
       "Prob(Omnibus):                  0.000   Jarque-Bera (JB):              108.647\n",
       "Skew:                          -0.692   Prob(JB):                     2.56e-24\n",
       "Kurtosis:                       4.666   Cond. No.                     2.51e+17\n",
       "==============================================================================\n",
       "\n",
       "Warnings:\n",
       "[1] Standard Errors assume that the covariance matrix of the errors is correctly specified.\n",
       "[2] The smallest eigenvalue is 1.87e-31. This might indicate that there are\n",
       "strong multicollinearity problems or that the design matrix is singular.\n",
       "\"\"\""
      ]
     },
     "execution_count": 130,
     "metadata": {},
     "output_type": "execute_result"
    }
   ],
   "source": [
    "train, test = train_test_split(reg2, test_size=0.2)\n",
    "model3 = sm.OLS(train.iloc[:,7], train.iloc[:,0:7]).fit()\n",
    "model3.summary()"
   ]
  },
  {
   "cell_type": "code",
   "execution_count": 131,
   "metadata": {},
   "outputs": [],
   "source": [
    "testp = model3.predict(test.iloc[:,0:7])"
   ]
  },
  {
   "cell_type": "code",
   "execution_count": 132,
   "metadata": {},
   "outputs": [
    {
     "data": {
      "text/plain": [
       "(174.43614623146615, 939.264901455412)"
      ]
     },
     "execution_count": 132,
     "metadata": {},
     "output_type": "execute_result"
    }
   ],
   "source": [
    "MAPE(test.iloc[:,7],testp),math.sqrt(mean_squared_error(test.iloc[:,7],testp))"
   ]
  },
  {
   "cell_type": "markdown",
   "metadata": {},
   "source": [
    "#### Applyting K-Fold cross validation with 10 Folds to finalize the model."
   ]
  },
  {
   "cell_type": "code",
   "execution_count": 133,
   "metadata": {},
   "outputs": [
    {
     "data": {
      "text/plain": [
       "10"
      ]
     },
     "execution_count": 133,
     "metadata": {},
     "output_type": "execute_result"
    }
   ],
   "source": [
    "from sklearn.model_selection import KFold # import KFold\n",
    "reg2.reset_index(drop=True,inplace=True)\n",
    "y = reg2[\"count\"].values\n",
    "X = reg2.iloc[:,0:7].values\n",
    "kf = KFold(n_splits=10)\n",
    "kf.get_n_splits(X)"
   ]
  },
  {
   "cell_type": "code",
   "execution_count": 134,
   "metadata": {},
   "outputs": [],
   "source": [
    "mape = []\n",
    "rmse = []\n",
    "for train_index, test_index in kf.split(X):\n",
    "    X_train, X_test = X[train_index], X[test_index]\n",
    "    y_train, y_test = y[train_index], y[test_index]\n",
    "    models = sm.OLS(y_train, X_train).fit()\n",
    "    testp = models.predict(X_test)\n",
    "    mape.append(MAPE(y_test,testp))\n",
    "    rmse.append(math.sqrt(mean_squared_error(y_test,testp)))\n"
   ]
  },
  {
   "cell_type": "code",
   "execution_count": 135,
   "metadata": {},
   "outputs": [
    {
     "data": {
      "text/plain": [
       "(55.67640944299673, 941.3712932156241)"
      ]
     },
     "execution_count": 135,
     "metadata": {},
     "output_type": "execute_result"
    }
   ],
   "source": [
    "np.mean(mape),np.mean(rmse)"
   ]
  },
  {
   "cell_type": "markdown",
   "metadata": {},
   "source": [
    "#### The Final Model satisfy all assumptions of linear regression \n"
   ]
  },
  {
   "cell_type": "code",
   "execution_count": 136,
   "metadata": {
    "scrolled": true
   },
   "outputs": [
    {
     "name": "stdout",
     "output_type": "stream",
     "text": [
      "1. explains around 99% variance \n",
      "2. RMSE of 941.3712932156241 and \n",
      "3. MAPE of 55.67640944299673\n"
     ]
    }
   ],
   "source": [
    "print(\"1. explains around 99% variance \\n2. RMSE of \"+str(np.mean(rmse))+\" and \\n3. MAPE of \"+str(np.mean(mape)))"
   ]
  },
  {
   "cell_type": "markdown",
   "metadata": {},
   "source": [
    "## Model2\n",
    "### Decision Tree Regressor"
   ]
  },
  {
   "cell_type": "code",
   "execution_count": 137,
   "metadata": {},
   "outputs": [
    {
     "data": {
      "text/html": [
       "<div>\n",
       "<style scoped>\n",
       "    .dataframe tbody tr th:only-of-type {\n",
       "        vertical-align: middle;\n",
       "    }\n",
       "\n",
       "    .dataframe tbody tr th {\n",
       "        vertical-align: top;\n",
       "    }\n",
       "\n",
       "    .dataframe thead th {\n",
       "        text-align: right;\n",
       "    }\n",
       "</style>\n",
       "<table border=\"1\" class=\"dataframe\">\n",
       "  <thead>\n",
       "    <tr style=\"text-align: right;\">\n",
       "      <th></th>\n",
       "      <th>season</th>\n",
       "      <th>yr</th>\n",
       "      <th>holiday</th>\n",
       "      <th>weekday</th>\n",
       "      <th>workingday</th>\n",
       "      <th>weathersit</th>\n",
       "      <th>temp</th>\n",
       "      <th>count</th>\n",
       "    </tr>\n",
       "  </thead>\n",
       "  <tbody>\n",
       "    <tr>\n",
       "      <th>0</th>\n",
       "      <td>1</td>\n",
       "      <td>0</td>\n",
       "      <td>0</td>\n",
       "      <td>6</td>\n",
       "      <td>0</td>\n",
       "      <td>2</td>\n",
       "      <td>0.344167</td>\n",
       "      <td>985</td>\n",
       "    </tr>\n",
       "    <tr>\n",
       "      <th>1</th>\n",
       "      <td>1</td>\n",
       "      <td>0</td>\n",
       "      <td>0</td>\n",
       "      <td>0</td>\n",
       "      <td>0</td>\n",
       "      <td>2</td>\n",
       "      <td>0.363478</td>\n",
       "      <td>801</td>\n",
       "    </tr>\n",
       "    <tr>\n",
       "      <th>2</th>\n",
       "      <td>1</td>\n",
       "      <td>0</td>\n",
       "      <td>0</td>\n",
       "      <td>1</td>\n",
       "      <td>1</td>\n",
       "      <td>1</td>\n",
       "      <td>0.196364</td>\n",
       "      <td>1349</td>\n",
       "    </tr>\n",
       "    <tr>\n",
       "      <th>3</th>\n",
       "      <td>1</td>\n",
       "      <td>0</td>\n",
       "      <td>0</td>\n",
       "      <td>2</td>\n",
       "      <td>1</td>\n",
       "      <td>1</td>\n",
       "      <td>0.200000</td>\n",
       "      <td>1562</td>\n",
       "    </tr>\n",
       "    <tr>\n",
       "      <th>4</th>\n",
       "      <td>1</td>\n",
       "      <td>0</td>\n",
       "      <td>0</td>\n",
       "      <td>3</td>\n",
       "      <td>1</td>\n",
       "      <td>1</td>\n",
       "      <td>0.226957</td>\n",
       "      <td>1600</td>\n",
       "    </tr>\n",
       "    <tr>\n",
       "      <th>...</th>\n",
       "      <td>...</td>\n",
       "      <td>...</td>\n",
       "      <td>...</td>\n",
       "      <td>...</td>\n",
       "      <td>...</td>\n",
       "      <td>...</td>\n",
       "      <td>...</td>\n",
       "      <td>...</td>\n",
       "    </tr>\n",
       "    <tr>\n",
       "      <th>691</th>\n",
       "      <td>1</td>\n",
       "      <td>1</td>\n",
       "      <td>0</td>\n",
       "      <td>4</td>\n",
       "      <td>1</td>\n",
       "      <td>2</td>\n",
       "      <td>0.254167</td>\n",
       "      <td>2114</td>\n",
       "    </tr>\n",
       "    <tr>\n",
       "      <th>692</th>\n",
       "      <td>1</td>\n",
       "      <td>1</td>\n",
       "      <td>0</td>\n",
       "      <td>5</td>\n",
       "      <td>1</td>\n",
       "      <td>2</td>\n",
       "      <td>0.253333</td>\n",
       "      <td>3095</td>\n",
       "    </tr>\n",
       "    <tr>\n",
       "      <th>693</th>\n",
       "      <td>1</td>\n",
       "      <td>1</td>\n",
       "      <td>0</td>\n",
       "      <td>6</td>\n",
       "      <td>0</td>\n",
       "      <td>2</td>\n",
       "      <td>0.253333</td>\n",
       "      <td>1341</td>\n",
       "    </tr>\n",
       "    <tr>\n",
       "      <th>694</th>\n",
       "      <td>1</td>\n",
       "      <td>1</td>\n",
       "      <td>0</td>\n",
       "      <td>0</td>\n",
       "      <td>0</td>\n",
       "      <td>1</td>\n",
       "      <td>0.255833</td>\n",
       "      <td>1796</td>\n",
       "    </tr>\n",
       "    <tr>\n",
       "      <th>695</th>\n",
       "      <td>1</td>\n",
       "      <td>1</td>\n",
       "      <td>0</td>\n",
       "      <td>1</td>\n",
       "      <td>1</td>\n",
       "      <td>2</td>\n",
       "      <td>0.215833</td>\n",
       "      <td>2729</td>\n",
       "    </tr>\n",
       "  </tbody>\n",
       "</table>\n",
       "<p>696 rows × 8 columns</p>\n",
       "</div>"
      ],
      "text/plain": [
       "     season  yr  holiday  weekday  workingday  weathersit      temp  count\n",
       "0         1   0        0        6           0           2  0.344167    985\n",
       "1         1   0        0        0           0           2  0.363478    801\n",
       "2         1   0        0        1           1           1  0.196364   1349\n",
       "3         1   0        0        2           1           1  0.200000   1562\n",
       "4         1   0        0        3           1           1  0.226957   1600\n",
       "..      ...  ..      ...      ...         ...         ...       ...    ...\n",
       "691       1   1        0        4           1           2  0.254167   2114\n",
       "692       1   1        0        5           1           2  0.253333   3095\n",
       "693       1   1        0        6           0           2  0.253333   1341\n",
       "694       1   1        0        0           0           1  0.255833   1796\n",
       "695       1   1        0        1           1           2  0.215833   2729\n",
       "\n",
       "[696 rows x 8 columns]"
      ]
     },
     "execution_count": 137,
     "metadata": {},
     "output_type": "execute_result"
    }
   ],
   "source": [
    "df3 = reg2.copy()\n",
    "df3[\"count\"] = count\n",
    "df3"
   ]
  },
  {
   "cell_type": "markdown",
   "metadata": {},
   "source": [
    "#### Setting up cross validation with 5 fold approx 20% data"
   ]
  },
  {
   "cell_type": "code",
   "execution_count": 138,
   "metadata": {},
   "outputs": [
    {
     "data": {
      "text/plain": [
       "5"
      ]
     },
     "execution_count": 138,
     "metadata": {},
     "output_type": "execute_result"
    }
   ],
   "source": [
    "from sklearn.model_selection import KFold # import KFold\n",
    "df3.reset_index(drop=True,inplace=True)\n",
    "y = df3[\"count\"].values\n",
    "X = df3.iloc[:,0:7].values\n",
    "kf = KFold(n_splits=5)\n",
    "kf.get_n_splits(X)"
   ]
  },
  {
   "cell_type": "markdown",
   "metadata": {},
   "source": [
    "#### Training and testing with K-fold "
   ]
  },
  {
   "cell_type": "code",
   "execution_count": 139,
   "metadata": {},
   "outputs": [],
   "source": [
    "from sklearn import tree\n",
    "mape = []\n",
    "rmse = []\n",
    "\n",
    "for train_index, test_index in kf.split(X):\n",
    "    X_train, X_test = X[train_index], X[test_index]\n",
    "    y_train, y_test = y[train_index], y[test_index]\n",
    "    models = tree.DecisionTreeRegressor(criterion=\"mse\").fit(X_train,y_train)\n",
    "    testp = models.predict(X_test)\n",
    "    mape.append(MAPE(y_test,testp))\n",
    "    rmse.append(math.sqrt(mean_squared_error(y_test,testp)))\n"
   ]
  },
  {
   "cell_type": "code",
   "execution_count": 140,
   "metadata": {},
   "outputs": [
    {
     "data": {
      "text/plain": [
       "(63.273779470675755, 1156.2214044064408)"
      ]
     },
     "execution_count": 140,
     "metadata": {},
     "output_type": "execute_result"
    }
   ],
   "source": [
    "np.mean(mape),np.mean(rmse)"
   ]
  },
  {
   "cell_type": "markdown",
   "metadata": {},
   "source": [
    "#### The Final decision tree model"
   ]
  },
  {
   "cell_type": "code",
   "execution_count": 141,
   "metadata": {},
   "outputs": [
    {
     "name": "stdout",
     "output_type": "stream",
     "text": [
      "1. RMSE of 1156.2214044064408 and \n",
      "3. MAPE of 63.273779470675755\n"
     ]
    }
   ],
   "source": [
    "print(\"1. RMSE of \"+str(np.mean(rmse))+\" and \\n3. MAPE of \"+str(np.mean(mape)))"
   ]
  },
  {
   "cell_type": "markdown",
   "metadata": {},
   "source": [
    "* Which is quite higher than that of the linear regression model."
   ]
  },
  {
   "cell_type": "markdown",
   "metadata": {},
   "source": [
    "## Model 3\n",
    "### Using Ensembled method Random Forest Regressor"
   ]
  },
  {
   "cell_type": "code",
   "execution_count": 142,
   "metadata": {},
   "outputs": [],
   "source": [
    "from sklearn.ensemble import RandomForestRegressor\n",
    "from tqdm import tqdm"
   ]
  },
  {
   "cell_type": "code",
   "execution_count": 145,
   "metadata": {},
   "outputs": [],
   "source": [
    "y = df3[\"count\"].values\n",
    "X = df3.iloc[:,0:7].values"
   ]
  },
  {
   "cell_type": "code",
   "execution_count": 146,
   "metadata": {},
   "outputs": [
    {
     "name": "stderr",
     "output_type": "stream",
     "text": [
      "100%|██████████████████████████████████████████████████████████████████████████████████| 50/50 [00:33<00:00,  1.48it/s]\n"
     ]
    }
   ],
   "source": [
    "obb = []\n",
    "for i in tqdm(range(100,600,10)):\n",
    "    x_train, x_test, y_train, y_test = train_test_split(X,y, test_size = 0.2)\n",
    "    clf=RandomForestRegressor( n_estimators=i,oob_score=True,max_features=\"sqrt\").fit(x_train,y_train)\n",
    "    pred = clf.predict(x_test)\n",
    "    obb.append(clf.oob_score_)\n"
   ]
  },
  {
   "cell_type": "code",
   "execution_count": 147,
   "metadata": {},
   "outputs": [
    {
     "data": {
      "text/plain": [
       "0.884801663121898"
      ]
     },
     "execution_count": 147,
     "metadata": {},
     "output_type": "execute_result"
    }
   ],
   "source": [
    "np.max(obb)"
   ]
  },
  {
   "cell_type": "markdown",
   "metadata": {},
   "source": [
    "#### Finding Optimal The No. Of Estimator with Maximum Obb Score"
   ]
  },
  {
   "cell_type": "code",
   "execution_count": 148,
   "metadata": {},
   "outputs": [],
   "source": [
    "ss = list(range(100,600,10))"
   ]
  },
  {
   "cell_type": "code",
   "execution_count": 149,
   "metadata": {},
   "outputs": [],
   "source": [
    "# Index of the greatest obb\n",
    "mobb = obb.index(np.max(obb))\n",
    "nestim = ss[mobb]"
   ]
  },
  {
   "cell_type": "markdown",
   "metadata": {},
   "source": [
    "#### Setting up cross validation with 5 fold approx 20% data\n",
    "with optimal no. of estimator "
   ]
  },
  {
   "cell_type": "code",
   "execution_count": 155,
   "metadata": {},
   "outputs": [
    {
     "data": {
      "text/plain": [
       "5"
      ]
     },
     "execution_count": 155,
     "metadata": {},
     "output_type": "execute_result"
    }
   ],
   "source": [
    "from sklearn.model_selection import KFold # import KFold\n",
    "y = df3[\"count\"].values\n",
    "X = df3.iloc[:,0:7].values\n",
    "kf = KFold(n_splits=5)\n",
    "kf.get_n_splits(X)"
   ]
  },
  {
   "cell_type": "code",
   "execution_count": 156,
   "metadata": {},
   "outputs": [
    {
     "name": "stderr",
     "output_type": "stream",
     "text": [
      "5it [00:04,  1.07it/s]\n"
     ]
    }
   ],
   "source": [
    "mape = []\n",
    "rmse = []\n",
    "\n",
    "for train_index, test_index in tqdm(kf.split(X)):\n",
    "    X_train, X_test = X[train_index], X[test_index]\n",
    "    y_train, y_test = y[train_index], y[test_index]\n",
    "    models = RandomForestRegressor( n_estimators=nestim,oob_score=True,max_features=\"sqrt\").fit(X_train,y_train)\n",
    "    testp = models.predict(X_test)\n",
    "    mape.append(MAPE(y_test,testp))\n",
    "    rmse.append(math.sqrt(mean_squared_error(y_test,testp)))"
   ]
  },
  {
   "cell_type": "code",
   "execution_count": 157,
   "metadata": {},
   "outputs": [
    {
     "data": {
      "text/plain": [
       "(51.274514533828665, 920.4720738932531)"
      ]
     },
     "execution_count": 157,
     "metadata": {},
     "output_type": "execute_result"
    }
   ],
   "source": [
    "np.mean(mape),np.mean(rmse)"
   ]
  },
  {
   "cell_type": "markdown",
   "metadata": {},
   "source": [
    "#### The Final Random Forest Model"
   ]
  },
  {
   "cell_type": "code",
   "execution_count": 158,
   "metadata": {},
   "outputs": [
    {
     "name": "stdout",
     "output_type": "stream",
     "text": [
      "1. RMSE of 920.4720738932531 and \n",
      "3. MAPE of 51.274514533828665\n"
     ]
    }
   ],
   "source": [
    "print(\"1. RMSE of \"+str(np.mean(rmse))+\" and \\n3. MAPE of \"+str(np.mean(mape)))"
   ]
  },
  {
   "cell_type": "markdown",
   "metadata": {},
   "source": [
    "## Model 4\n",
    "### Using Distance based method KNN"
   ]
  },
  {
   "cell_type": "code",
   "execution_count": 159,
   "metadata": {},
   "outputs": [],
   "source": [
    "from sklearn import neighbors\n",
    "y = df3[\"count\"].values\n",
    "x = df3.iloc[:,0:7].values\n",
    "x_train, x_test, y_train, y_test = train_test_split(x,y, test_size = 0.2)    \n"
   ]
  },
  {
   "cell_type": "code",
   "execution_count": 160,
   "metadata": {},
   "outputs": [
    {
     "name": "stdout",
     "output_type": "stream",
     "text": [
      "RMSE value for k=  1 is: 852.7147571977731\n",
      "RMSE value for k=  2 is: 712.2117687678494\n",
      "RMSE value for k=  3 is: 796.9582052732634\n",
      "RMSE value for k=  4 is: 840.6416546411778\n",
      "RMSE value for k=  5 is: 895.4438399874268\n",
      "RMSE value for k=  6 is: 944.8175116693926\n",
      "RMSE value for k=  7 is: 934.864333245388\n",
      "RMSE value for k=  8 is: 925.0585999174593\n",
      "RMSE value for k=  9 is: 904.3068403766656\n",
      "RMSE value for k=  10 is: 907.4381894731374\n",
      "RMSE value for k=  11 is: 933.9123141428612\n",
      "RMSE value for k=  12 is: 931.3223975000909\n",
      "RMSE value for k=  13 is: 948.036157561491\n",
      "RMSE value for k=  14 is: 957.0491540905729\n",
      "RMSE value for k=  15 is: 974.6131480648886\n",
      "RMSE value for k=  16 is: 997.2374493914426\n",
      "RMSE value for k=  17 is: 1010.2550052365671\n",
      "RMSE value for k=  18 is: 1021.6879576054763\n",
      "RMSE value for k=  19 is: 1035.0379011831571\n",
      "RMSE value for k=  20 is: 1036.9466073095155\n"
     ]
    }
   ],
   "source": [
    "rmse_val = [] #to store rmse values for different k\n",
    "for K in range(20):\n",
    "    K = K+1\n",
    "    model = neighbors.KNeighborsRegressor(n_neighbors = K)\n",
    "    model.fit(x_train, y_train)  #fit the model\n",
    "    pred=model.predict(x_test) #make prediction on test set\n",
    "    error = math.sqrt(mean_squared_error(y_test,pred)) #calculate rmse\n",
    "    rmse_val.append(error) #store rmse values\n",
    "    print('RMSE value for k= ' , K , 'is:', error)"
   ]
  },
  {
   "cell_type": "code",
   "execution_count": 161,
   "metadata": {},
   "outputs": [],
   "source": [
    "k = list(range(1,21))"
   ]
  },
  {
   "cell_type": "code",
   "execution_count": 162,
   "metadata": {},
   "outputs": [
    {
     "data": {
      "text/plain": [
       "[<matplotlib.lines.Line2D at 0x23b8c02acc0>]"
      ]
     },
     "execution_count": 162,
     "metadata": {},
     "output_type": "execute_result"
    },
    {
     "data": {
      "image/png": "[encoded data removed]",
      "text/plain": [
       "<Figure size 1080x648 with 1 Axes>"
      ]
     },
     "metadata": {
      "image/png": {
       "height": 520,
       "width": 883
      },
      "needs_background": "light"
     },
     "output_type": "display_data"
    }
   ],
   "source": [
    "plt.plot(k,rmse_val,marker=\"o\")"
   ]
  },
  {
   "cell_type": "code",
   "execution_count": 163,
   "metadata": {},
   "outputs": [
    {
     "data": {
      "text/plain": [
       "2"
      ]
     },
     "execution_count": 163,
     "metadata": {},
     "output_type": "execute_result"
    }
   ],
   "source": [
    "# Index of the smallest RMSE\n",
    "mobb = rmse_val.index(np.min(rmse_val))\n",
    "k_n = k[mobb]\n",
    "k_n"
   ]
  },
  {
   "cell_type": "code",
   "execution_count": 165,
   "metadata": {},
   "outputs": [
    {
     "name": "stderr",
     "output_type": "stream",
     "text": [
      "5it [00:00, 500.19it/s]\n"
     ]
    }
   ],
   "source": [
    "mape = []\n",
    "rmse = []\n",
    "y = df3[\"count\"].values\n",
    "X = df3.iloc[:,0:7].values\n",
    "for train_index, test_index in tqdm(kf.split(X)):\n",
    "    X_train, X_test = X[train_index], X[test_index]\n",
    "    y_train, y_test = y[train_index], y[test_index]\n",
    "    models = neighbors.KNeighborsRegressor(n_neighbors = k_n).fit(X_train,y_train)\n",
    "    testp = models.predict(X_test)\n",
    "    mape.append(MAPE(y_test,testp))\n",
    "    rmse.append(math.sqrt(mean_squared_error(y_test,testp)))"
   ]
  },
  {
   "cell_type": "code",
   "execution_count": 166,
   "metadata": {},
   "outputs": [
    {
     "data": {
      "text/plain": [
       "(58.02749549317646, 1646.2527869640355)"
      ]
     },
     "execution_count": 166,
     "metadata": {},
     "output_type": "execute_result"
    }
   ],
   "source": [
    "np.mean(mape),np.mean(rmse)"
   ]
  },
  {
   "cell_type": "markdown",
   "metadata": {},
   "source": [
    "#### The Final KNN Model"
   ]
  },
  {
   "cell_type": "code",
   "execution_count": 167,
   "metadata": {},
   "outputs": [
    {
     "name": "stdout",
     "output_type": "stream",
     "text": [
      "1. RMSE of 1646.2527869640355 and \n",
      "3. MAPE of 58.02749549317646\n"
     ]
    }
   ],
   "source": [
    "print(\"1. RMSE of \"+str(np.mean(rmse))+\" and \\n3. MAPE of \"+str(np.mean(mape)))"
   ]
  },
  {
   "cell_type": "markdown",
   "metadata": {},
   "source": [
    "#### Regression\n",
    "1. explains around 95% variance \n",
    "2. RMSE of 941.3712932156241 and \n",
    "3. MAPE of 55.67640944299673\n",
    "\n",
    "#### Dtree\n",
    "1. RMSE of 1156.2214044064408 and \n",
    "3. MAPE of 63.273779470675755\n",
    "Which is quite higher than that of the linear regression model.\n",
    "\n",
    "#### Rforest\n",
    "1. RMSE of 920.4720738932531 and \n",
    "3. MAPE of 51.274514533828665\n",
    "\n",
    "#### KNN\n",
    "1. RMSE of 1646.2527869640355 and \n",
    "3. MAPE of 58.02749549317646\n"
   ]
  },
  {
   "cell_type": "markdown",
   "metadata": {},
   "source": [
    "## Conclusion\n",
    "We Derived That on applying The following algorithm we came to know that are Random forest model out performs all the other models in terms of:\n",
    "1. Explaining the variance,\n",
    "2. along with the minimum mean squared error and \n",
    "3. minimum mean absolute percentage error.\n",
    "#### Hence we can use it to predict The daily bike rental count very effectively."
   ]
  },
  {
   "cell_type": "code",
   "execution_count": null,
   "metadata": {},
   "outputs": [],
   "source": []
  }
 ],
 "metadata": {
  "kernelspec": {
   "display_name": "Python 3",
   "language": "python",
   "name": "python3"
  },
  "language_info": {
   "codemirror_mode": {
    "name": "ipython",
    "version": 3
   },
   "file_extension": ".py",
   "mimetype": "text/x-python",
   "name": "python",
   "nbconvert_exporter": "python",
   "pygments_lexer": "ipython3",
   "version": "3.7.1"
  }
 },
 "nbformat": 4,
 "nbformat_minor": 4
}
